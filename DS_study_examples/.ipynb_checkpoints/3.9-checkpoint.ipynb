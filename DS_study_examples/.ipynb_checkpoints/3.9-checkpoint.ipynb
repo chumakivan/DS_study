{
 "cells": [
  {
   "cell_type": "code",
   "execution_count": 1,
   "metadata": {},
   "outputs": [],
   "source": [
    "students = {}\n",
    "\n",
    "f = open('StudentsPerformance.csv')\n",
    "\n",
    "for line in f:\n",
    "    info = line.split(',')\n",
    "    if info[0] == '\"gender\"':\n",
    "        continue\n",
    "    else:\n",
    "        ethnicity = info[1][1:-1]\n",
    "        if ethnicity in students:\n",
    "            students[ethnicity] += 1\n",
    "        else:\n",
    "            students[ethnicity] = 1"
   ]
  },
  {
   "cell_type": "code",
   "execution_count": 2,
   "metadata": {},
   "outputs": [
    {
     "data": {
      "text/plain": [
       "{'group B': 190, 'group C': 319, 'group A': 89, 'group D': 262, 'group E': 140}"
      ]
     },
     "execution_count": 2,
     "metadata": {},
     "output_type": "execute_result"
    }
   ],
   "source": [
    "students"
   ]
  },
  {
   "cell_type": "markdown",
   "metadata": {},
   "source": [
    "Сколько мальчиков хорошо пообедали перед экзаменом (lunch = standard)?"
   ]
  },
  {
   "cell_type": "code",
   "execution_count": 3,
   "metadata": {},
   "outputs": [],
   "source": [
    "students = {}\n",
    "\n",
    "f = open('StudentsPerformance.csv')\n",
    "\n",
    "for line in f:\n",
    "    info = line.split(',')\n",
    "    if info[0] == '\"gender\"':\n",
    "        continue\n",
    "    else:\n",
    "        sex = info[0][1:-1]\n",
    "        lunch = info[3][1:-1]\n",
    "        if sex in students:\n",
    "            if lunch in students[sex]:\n",
    "                students[sex][lunch] += 1\n",
    "            else:\n",
    "                students[sex][lunch] = 1\n",
    "        else:\n",
    "            students[sex] = {}\n",
    "            students[sex][lunch] = 1"
   ]
  },
  {
   "cell_type": "code",
   "execution_count": 4,
   "metadata": {},
   "outputs": [
    {
     "data": {
      "text/plain": [
       "{'female': {'standard': 329, 'free/reduced': 189},\n",
       " 'male': {'free/reduced': 166, 'standard': 316}}"
      ]
     },
     "execution_count": 4,
     "metadata": {},
     "output_type": "execute_result"
    }
   ],
   "source": [
    "students"
   ]
  },
  {
   "cell_type": "code",
   "execution_count": 5,
   "metadata": {},
   "outputs": [],
   "source": [
    "students = {}\n",
    "\n",
    "f = open('StudentsPerformance.csv')\n",
    "\n",
    "for line in f:\n",
    "    info = line.split(',')\n",
    "    if info[0] == '\"gender\"':\n",
    "        continue\n",
    "    else:\n",
    "        sex = info[0][1:-1]\n",
    "        prep = info[4][1:-1]\n",
    "        if sex in students:\n",
    "            if prep in students[sex]:\n",
    "                students[sex][prep] += 1\n",
    "            else:\n",
    "                students[sex][prep] = 1\n",
    "        else:\n",
    "            students[sex] = {}\n",
    "            students[sex][prep] = 1"
   ]
  },
  {
   "cell_type": "code",
   "execution_count": 6,
   "metadata": {},
   "outputs": [
    {
     "data": {
      "text/plain": [
       "{'female': {'none': 334, 'completed': 184},\n",
       " 'male': {'none': 308, 'completed': 174}}"
      ]
     },
     "execution_count": 6,
     "metadata": {},
     "output_type": "execute_result"
    }
   ],
   "source": [
    "students"
   ]
  },
  {
   "cell_type": "code",
   "execution_count": 8,
   "metadata": {},
   "outputs": [
    {
     "data": {
      "text/plain": [
       "{'female': {\"bachelor's degree\": 63,\n",
       "  'some college': 118,\n",
       "  \"master's degree\": 36,\n",
       "  \"associate's degree\": 116,\n",
       "  'high school': 94,\n",
       "  'some high school': 91},\n",
       " 'male': {\"associate's degree\": 106,\n",
       "  'some college': 108,\n",
       "  'high school': 102,\n",
       "  \"master's degree\": 23,\n",
       "  \"bachelor's degree\": 55,\n",
       "  'some high school': 88}}"
      ]
     },
     "execution_count": 8,
     "metadata": {},
     "output_type": "execute_result"
    }
   ],
   "source": [
    "students = {}\n",
    "\n",
    "f = open('StudentsPerformance.csv')\n",
    "\n",
    "for line in f:\n",
    "    info = line.split(',')\n",
    "    if info[0] == '\"gender\"':\n",
    "        continue\n",
    "    else:\n",
    "        sex = info[0][1:-1]\n",
    "        parents = info[2][1:-1]\n",
    "        if sex in students:\n",
    "            if parents in students[sex]:\n",
    "                students[sex][parents] += 1\n",
    "            else:\n",
    "                students[sex][parents] = 1\n",
    "        else:\n",
    "            students[sex] = {}\n",
    "            students[sex][parents] = 1\n",
    "students"
   ]
  },
  {
   "cell_type": "markdown",
   "metadata": {},
   "source": [
    "Сколько абитуриентов, относящихся к этнической группе С, закончили подготовительные курсы?"
   ]
  },
  {
   "cell_type": "code",
   "execution_count": 11,
   "metadata": {},
   "outputs": [
    {
     "data": {
      "text/plain": [
       "{'group B': {'none': 122, 'completed': 68},\n",
       " 'group C': {'completed': 117, 'none': 202},\n",
       " 'group A': {'none': 58, 'completed': 31},\n",
       " 'group D': {'completed': 82, 'none': 180},\n",
       " 'group E': {'none': 80, 'completed': 60}}"
      ]
     },
     "execution_count": 11,
     "metadata": {},
     "output_type": "execute_result"
    }
   ],
   "source": [
    "students = {}\n",
    "\n",
    "f = open('StudentsPerformance.csv')\n",
    "\n",
    "for line in f:\n",
    "    info = line.split(',')\n",
    "    if info[0] == '\"gender\"':\n",
    "        continue\n",
    "    else:\n",
    "        ethn = info[1][1:-1]\n",
    "        prep = info[4][1:-1]\n",
    "        if ethn in students:\n",
    "            if prep in students[ethn]:\n",
    "                students[ethn][prep] += 1\n",
    "            else:\n",
    "                students[ethn][prep] = 1\n",
    "        else:\n",
    "            students[ethn] = {}\n",
    "            students[ethn][prep] = 1\n",
    "students"
   ]
  },
  {
   "cell_type": "markdown",
   "metadata": {},
   "source": [
    "Сколько девочек, родители которых имеют степень магистра, набрали по математике больше 90 баллов?"
   ]
  },
  {
   "cell_type": "code",
   "execution_count": 14,
   "metadata": {},
   "outputs": [
    {
     "data": {
      "text/plain": [
       "{'male': {'some college': 9,\n",
       "  \"associate's degree\": 9,\n",
       "  'some high school': 3,\n",
       "  \"bachelor's degree\": 5,\n",
       "  \"master's degree\": 2,\n",
       "  'high school': 1},\n",
       " 'female': {\"bachelor's degree\": 7,\n",
       "  'some high school': 2,\n",
       "  'high school': 1,\n",
       "  'some college': 2,\n",
       "  \"associate's degree\": 7,\n",
       "  \"master's degree\": 2}}"
      ]
     },
     "execution_count": 14,
     "metadata": {},
     "output_type": "execute_result"
    }
   ],
   "source": [
    "students = {}\n",
    "\n",
    "f = open('StudentsPerformance.csv')\n",
    "\n",
    "for line in f:\n",
    "    info = line.split(',')\n",
    "    if info[0] == '\"gender\"':\n",
    "        continue\n",
    "    else:\n",
    "        sex = info[0][1:-1]\n",
    "        parents = info[2][1:-1]\n",
    "        if int(info[5][1:-1])>90:\n",
    "            if sex in students:\n",
    "                if parents in students[sex]:\n",
    "                    students[sex][parents] += 1\n",
    "                else:\n",
    "                    students[sex][parents] = 1\n",
    "            else:\n",
    "                students[sex] = {}\n",
    "                students[sex][parents] = 1\n",
    "students"
   ]
  },
  {
   "cell_type": "code",
   "execution_count": null,
   "metadata": {},
   "outputs": [],
   "source": []
  },
  {
   "cell_type": "code",
   "execution_count": null,
   "metadata": {},
   "outputs": [],
   "source": []
  },
  {
   "cell_type": "code",
   "execution_count": null,
   "metadata": {},
   "outputs": [],
   "source": []
  },
  {
   "cell_type": "code",
   "execution_count": null,
   "metadata": {},
   "outputs": [],
   "source": []
  },
  {
   "cell_type": "code",
   "execution_count": null,
   "metadata": {},
   "outputs": [],
   "source": []
  },
  {
   "cell_type": "code",
   "execution_count": null,
   "metadata": {},
   "outputs": [],
   "source": []
  },
  {
   "cell_type": "code",
   "execution_count": null,
   "metadata": {},
   "outputs": [],
   "source": []
  },
  {
   "cell_type": "code",
   "execution_count": null,
   "metadata": {},
   "outputs": [],
   "source": []
  },
  {
   "cell_type": "code",
   "execution_count": null,
   "metadata": {},
   "outputs": [],
   "source": []
  },
  {
   "cell_type": "code",
   "execution_count": null,
   "metadata": {},
   "outputs": [],
   "source": []
  },
  {
   "cell_type": "code",
   "execution_count": null,
   "metadata": {},
   "outputs": [],
   "source": []
  },
  {
   "cell_type": "code",
   "execution_count": null,
   "metadata": {},
   "outputs": [],
   "source": []
  }
 ],
 "metadata": {
  "kernelspec": {
   "display_name": "Python 3",
   "language": "python",
   "name": "python3"
  },
  "language_info": {
   "codemirror_mode": {
    "name": "ipython",
    "version": 3
   },
   "file_extension": ".py",
   "mimetype": "text/x-python",
   "name": "python",
   "nbconvert_exporter": "python",
   "pygments_lexer": "ipython3",
   "version": "3.7.4"
  }
 },
 "nbformat": 4,
 "nbformat_minor": 2
}
