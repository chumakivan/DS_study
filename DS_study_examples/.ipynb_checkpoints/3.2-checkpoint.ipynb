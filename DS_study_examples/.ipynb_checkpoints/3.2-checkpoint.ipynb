{
 "cells": [
  {
   "cell_type": "code",
   "execution_count": 34,
   "metadata": {},
   "outputs": [],
   "source": [
    "proverb = 'Интернет-открытки - это лучшее средство для мужчины сказать женщине о своих чувствах прямо в глаза.'"
   ]
  },
  {
   "cell_type": "code",
   "execution_count": 35,
   "metadata": {},
   "outputs": [
    {
     "name": "stdout",
     "output_type": "stream",
     "text": [
      "0 И -99\n",
      "1 н -98\n",
      "2 т -97\n",
      "3 е -96\n",
      "4 р -95\n",
      "5 н -94\n",
      "6 е -93\n",
      "7 т -92\n",
      "8 - -91\n",
      "9 о -90\n",
      "10 т -89\n",
      "11 к -88\n",
      "12 р -87\n",
      "13 ы -86\n",
      "14 т -85\n",
      "15 к -84\n",
      "16 и -83\n",
      "17   -82\n",
      "18 - -81\n",
      "19   -80\n",
      "20 э -79\n",
      "21 т -78\n",
      "22 о -77\n",
      "23   -76\n",
      "24 л -75\n",
      "25 у -74\n",
      "26 ч -73\n",
      "27 ш -72\n",
      "28 е -71\n",
      "29 е -70\n",
      "30   -69\n",
      "31 с -68\n",
      "32 р -67\n",
      "33 е -66\n",
      "34 д -65\n",
      "35 с -64\n",
      "36 т -63\n",
      "37 в -62\n",
      "38 о -61\n",
      "39   -60\n",
      "40 д -59\n",
      "41 л -58\n",
      "42 я -57\n",
      "43   -56\n",
      "44 м -55\n",
      "45 у -54\n",
      "46 ж -53\n",
      "47 ч -52\n",
      "48 и -51\n",
      "49 н -50\n",
      "50 ы -49\n",
      "51   -48\n",
      "52 с -47\n",
      "53 к -46\n",
      "54 а -45\n",
      "55 з -44\n",
      "56 а -43\n",
      "57 т -42\n",
      "58 ь -41\n",
      "59   -40\n",
      "60 ж -39\n",
      "61 е -38\n",
      "62 н -37\n",
      "63 щ -36\n",
      "64 и -35\n",
      "65 н -34\n",
      "66 е -33\n",
      "67   -32\n",
      "68 о -31\n",
      "69   -30\n",
      "70 с -29\n",
      "71 в -28\n",
      "72 о -27\n",
      "73 и -26\n",
      "74 х -25\n",
      "75   -24\n",
      "76 ч -23\n",
      "77 у -22\n",
      "78 в -21\n",
      "79 с -20\n",
      "80 т -19\n",
      "81 в -18\n",
      "82 а -17\n",
      "83 х -16\n",
      "84   -15\n",
      "85 п -14\n",
      "86 р -13\n",
      "87 я -12\n",
      "88 м -11\n",
      "89 о -10\n",
      "90   -9\n",
      "91 в -8\n",
      "92   -7\n",
      "93 г -6\n",
      "94 л -5\n",
      "95 а -4\n",
      "96 з -3\n",
      "97 а -2\n",
      "98 . -1\n"
     ]
    }
   ],
   "source": [
    "for i,let in enumerate(proverb):\n",
    "    print(i,let,i-len(proverb))"
   ]
  },
  {
   "cell_type": "code",
   "execution_count": 12,
   "metadata": {},
   "outputs": [
    {
     "ename": "TypeError",
     "evalue": "can only concatenate list (not \"str\") to list",
     "output_type": "error",
     "traceback": [
      "\u001b[0;31m---------------------------------------------------------------------------\u001b[0m",
      "\u001b[0;31mTypeError\u001b[0m                                 Traceback (most recent call last)",
      "\u001b[0;32m<ipython-input-12-b61645579757>\u001b[0m in \u001b[0;36m<module>\u001b[0;34m\u001b[0m\n\u001b[0;32m----> 1\u001b[0;31m \u001b[0mresult\u001b[0m \u001b[0;34m=\u001b[0m \u001b[0mproverb\u001b[0m\u001b[0;34m[\u001b[0m\u001b[0;36m19\u001b[0m\u001b[0;34m:\u001b[0m\u001b[0;36m29\u001b[0m\u001b[0;34m]\u001b[0m\u001b[0;34m.\u001b[0m\u001b[0msplit\u001b[0m\u001b[0;34m(\u001b[0m\u001b[0;34m)\u001b[0m\u001b[0;34m+\u001b[0m\u001b[0;34m'о'\u001b[0m\u001b[0;34m\u001b[0m\u001b[0;34m\u001b[0m\u001b[0m\n\u001b[0m\u001b[1;32m      2\u001b[0m \u001b[0mprint\u001b[0m\u001b[0;34m(\u001b[0m\u001b[0mresult\u001b[0m\u001b[0;34m)\u001b[0m\u001b[0;34m\u001b[0m\u001b[0;34m\u001b[0m\u001b[0m\n",
      "\u001b[0;31mTypeError\u001b[0m: can only concatenate list (not \"str\") to list"
     ]
    }
   ],
   "source": [
    "result = proverb[19:29].split()+'о'\n",
    "print(result)"
   ]
  },
  {
   "cell_type": "code",
   "execution_count": null,
   "metadata": {},
   "outputs": [],
   "source": []
  },
  {
   "cell_type": "code",
   "execution_count": 2,
   "metadata": {},
   "outputs": [
    {
     "data": {
      "text/plain": [
       "'Программисты'"
      ]
     },
     "execution_count": 2,
     "metadata": {},
     "output_type": "execute_result"
    }
   ],
   "source": [
    "proverb[0:12]"
   ]
  },
  {
   "cell_type": "code",
   "execution_count": 6,
   "metadata": {},
   "outputs": [
    {
     "data": {
      "text/plain": [
       "'кофе'"
      ]
     },
     "execution_count": 6,
     "metadata": {},
     "output_type": "execute_result"
    }
   ],
   "source": [
    "proverb[-13:-9]"
   ]
  },
  {
   "cell_type": "markdown",
   "metadata": {},
   "source": [
    "Напишите программу, которая \"зашифровывает\" текст, хранящийся в переменной proverb, меняя местами символы, стоящие на нечётных и чётных позициях. Результат шифрования нужно вывести на экран с помощью функции print\n",
    "\n",
    "Используйте переменную proverb для хранения исходной фразы и переменную new_proverb для хранения \"зашифрованной\" фразы.\n",
    "\n",
    "Пример: после шифровки начало фразы должно выглядеть так: рПгоарммсиыт"
   ]
  },
  {
   "cell_type": "code",
   "execution_count": 13,
   "metadata": {},
   "outputs": [
    {
     "name": "stdout",
     "output_type": "stream",
     "text": [
      "Программисты - это устройства, преобразующие кофеин в код.\n",
      "рПгоарммсиыт- э оту тсорсйвт,ап ербоарузщюеик фоие н вок.д\n"
     ]
    }
   ],
   "source": [
    "proverb = 'Программисты - это устройства, преобразующие кофеин в код.'\n",
    "print(proverb)\n",
    "new_proverb=''\n",
    "for i,lt in enumerate(proverb):\n",
    "    if i==0 or i%2==0:\n",
    "        new_proverb=new_proverb+proverb[i+1]\n",
    "    else:\n",
    "        new_proverb=new_proverb+proverb[i-1]\n",
    "print(new_proverb)"
   ]
  },
  {
   "cell_type": "markdown",
   "metadata": {},
   "source": [
    "Некоторые слова одинаково читаются как слева направо, так и справа налево. Такие слова называются палиндромами.\n",
    "\n",
    "Напишите программу, которая оценивает слово, заданное в перееменной basic_word, и выдаёт сообщение: 'Слово \"...\" является палиндромом' в случае, если заданное слово одинаково читается слева направо и справа налево, и сообщение: 'Слово \"...\" - это не палиндром' в противном случае.\n",
    "\n",
    "Вместо многоточия в каждой из фраз должно стоять слово, заданное в переменной basic_word. Обратите внимание на то, что заданное слово должно быть взято в кавычки.\n",
    "\n",
    "При написании кода используйте две обязательные переменные: basic_word —для хранения заданного слова и inverted_word— для хранения перевёрнутого варианта заданного слова. Во время проверки кода на платформе используйте значение basic_word = 'программирование'."
   ]
  },
  {
   "cell_type": "code",
   "execution_count": 22,
   "metadata": {},
   "outputs": [
    {
     "name": "stdout",
     "output_type": "stream",
     "text": [
      "Слово \"программирование\" - это не палиндром\n"
     ]
    }
   ],
   "source": [
    "basic_word = 'программирование'\n",
    "inverted_list = [x for x in basic_word[::-1]]\n",
    "inverted_word = ''.join(inverted_list)\n",
    "if basic_word==inverted_word:\n",
    "    print(f'Слово \"{basic_word}\" является палиндромом')\n",
    "else:\n",
    "    print(f'Слово \"{basic_word}\" - это не палиндром')\n",
    "\n",
    "\n"
   ]
  },
  {
   "cell_type": "code",
   "execution_count": 25,
   "metadata": {},
   "outputs": [
    {
     "name": "stdout",
     "output_type": "stream",
     "text": [
      "18\n",
      "написанная\n",
      "7\n",
      "это\n",
      "-1\n"
     ]
    }
   ],
   "source": [
    "proverb = 'Хорошо написанная программа - это программа, написанная 2 раза'\n",
    "\n",
    "while True:\n",
    "    index = proverb.find('программа')\n",
    "    print(index)\n",
    "    if index == -1:\n",
    "        break\n",
    "    secret = proverb[:index].split()[-1]\n",
    "    print(secret)\n",
    "    proverb = proverb[index+9:] "
   ]
  },
  {
   "cell_type": "code",
   "execution_count": 24,
   "metadata": {},
   "outputs": [
    {
     "data": {
      "text/plain": [
       "'это'"
      ]
     },
     "execution_count": 24,
     "metadata": {},
     "output_type": "execute_result"
    }
   ],
   "source": [
    "secret"
   ]
  },
  {
   "cell_type": "code",
   "execution_count": 27,
   "metadata": {},
   "outputs": [
    {
     "name": "stdout",
     "output_type": "stream",
     "text": [
      "skillfactory.ru\n"
     ]
    }
   ],
   "source": [
    "email = 'VeryBigBoss@skillfactory.ru'\n",
    "print(email[email.find(\"@\")+1:])"
   ]
  },
  {
   "cell_type": "markdown",
   "metadata": {},
   "source": [
    "Дано вещественное число. Напишите программу, которая считает сумму цифр дробной части числа. Результат вычислений нужно вывести на экран с помощью функции print\n",
    "\n",
    "Используйте переменную number = 56.257 для хранения заданного числа и не меняйте её в процессе выполнения кода."
   ]
  },
  {
   "cell_type": "code",
   "execution_count": 28,
   "metadata": {},
   "outputs": [
    {
     "name": "stdout",
     "output_type": "stream",
     "text": [
      "14\n"
     ]
    }
   ],
   "source": [
    "number = 56.257\n",
    "summ=0\n",
    "if str(number).find('.')!=-1:\n",
    "    for digit in str(number)[str(number).find('.')+1:]:\n",
    "        summ+=int(digit)\n",
    "print(summ)"
   ]
  },
  {
   "cell_type": "markdown",
   "metadata": {},
   "source": [
    "Дан список emails_list, содержащий электронные адреса десяти человек. Вам нужно написать программу, которая создаёт словарь emails_dict .Ключами словаря должны быть адреса доменов, а значениями — количество электронных адресов из списка emails_list, зарегистрированных на каждом домене."
   ]
  },
  {
   "cell_type": "code",
   "execution_count": 33,
   "metadata": {},
   "outputs": [
    {
     "name": "stdout",
     "output_type": "stream",
     "text": [
      "{'mail.ru': 3, 'yandex.ru': 5, 'gmail.com': 2}\n"
     ]
    }
   ],
   "source": [
    "import collections\n",
    "emails_list = ['vasya@mail.ru', \n",
    "          'akakiy@yandex.ru', \n",
    "          'spyderman@yandex.ru', \n",
    "          'XFiles@gmail.com', \n",
    "          'hello@mail.ru', \n",
    "          'noname@gmail.com', \n",
    "          'DonaldTrump@mail.ru', \n",
    "          'a768#af@yandex.ru', \n",
    "          'Ivan_Ivanovich@yandex.ru', \n",
    "          'thebestmail@yandex.ru']\n",
    "emails_dict_list=[]\n",
    "emails_dict = collections.Counter()\n",
    "for eml in emails_list:\n",
    "    emails_dict_list.append(eml[eml.find(\"@\")+1:])\n",
    "for items in emails_dict_list:\n",
    "    emails_dict[items]+=1\n",
    "emails_dict=dict(emails_dict)\n",
    "print(emails_dict)"
   ]
  },
  {
   "cell_type": "code",
   "execution_count": null,
   "metadata": {},
   "outputs": [],
   "source": []
  },
  {
   "cell_type": "code",
   "execution_count": null,
   "metadata": {},
   "outputs": [],
   "source": []
  },
  {
   "cell_type": "code",
   "execution_count": null,
   "metadata": {},
   "outputs": [],
   "source": []
  },
  {
   "cell_type": "code",
   "execution_count": null,
   "metadata": {},
   "outputs": [],
   "source": []
  }
 ],
 "metadata": {
  "kernelspec": {
   "display_name": "Python 3",
   "language": "python",
   "name": "python3"
  },
  "language_info": {
   "codemirror_mode": {
    "name": "ipython",
    "version": 3
   },
   "file_extension": ".py",
   "mimetype": "text/x-python",
   "name": "python",
   "nbconvert_exporter": "python",
   "pygments_lexer": "ipython3",
   "version": "3.7.4"
  }
 },
 "nbformat": 4,
 "nbformat_minor": 2
}
