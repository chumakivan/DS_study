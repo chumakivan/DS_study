{
 "cells": [
  {
   "cell_type": "markdown",
   "metadata": {},
   "source": [
    "Перепишите код ниже, определив функцию avg_orders(user_db), которая возвращает среднее число заказов по данным в базе. Затем выведите на экран результат вызова этой функции для user_db"
   ]
  },
  {
   "cell_type": "code",
   "execution_count": 1,
   "metadata": {},
   "outputs": [
    {
     "name": "stdout",
     "output_type": "stream",
     "text": [
      "29.0\n"
     ]
    }
   ],
   "source": [
    "\n",
    "\n",
    "user_db = [{'orders': 12}, {'orders': 30}, {'orders': 45}]\n",
    "\n",
    "# перепишите эту часть\n",
    "def avg_orders(user_db):\n",
    "    return sum([user['orders'] for user in user_db])/len(user_db)\n",
    "\n",
    "orders_per_user = avg_orders(user_db)\n",
    "print(orders_per_user)"
   ]
  },
  {
   "cell_type": "markdown",
   "metadata": {},
   "source": [
    "Определите функцию get_euro_rate, которая возвращает случайное число от 65 до 85. Перепишите to_euro из примера выше, чтобы вместо постоянного exchange_rate 70 она использовала get_euro_rate\n",
    "\n",
    "Для выполнения задания вам потребуется функция random() из модуля random, которая возвращает случайное число от 0 до 1"
   ]
  },
  {
   "cell_type": "code",
   "execution_count": 9,
   "metadata": {},
   "outputs": [],
   "source": [
    "# добавьте функцию get_euro_rate\n",
    "def get_euro_rate():\n",
    "    from random import randint\n",
    "    return randint(65,85)\n",
    "\n",
    "# используйте get_euro_rate в следующей функции\n",
    "def to_euro(price):  \n",
    "    exchange_rate = get_euro_rate()\n",
    "    rounded = round(price/exchange_rate, 2)  \n",
    "    return '€' + str(rounded)\n"
   ]
  },
  {
   "cell_type": "code",
   "execution_count": 8,
   "metadata": {},
   "outputs": [
    {
     "name": "stdout",
     "output_type": "stream",
     "text": [
      "58\n"
     ]
    }
   ],
   "source": [
    "from random import randint\n",
    "print(randint(56,85))"
   ]
  },
  {
   "cell_type": "code",
   "execution_count": 10,
   "metadata": {},
   "outputs": [
    {
     "name": "stdout",
     "output_type": "stream",
     "text": [
      "10\n"
     ]
    }
   ],
   "source": [
    "all_the = sum\n",
    "magic = range\n",
    "print(all_the(magic(5)))"
   ]
  },
  {
   "cell_type": "code",
   "execution_count": 11,
   "metadata": {},
   "outputs": [
    {
     "name": "stdout",
     "output_type": "stream",
     "text": [
      "[-14, -10, -3, -2, 5, 24]\n"
     ]
    }
   ],
   "source": [
    "values = [4, 8, 15, 16, 23, 42]\n",
    "mean = 18\n",
    "\n",
    "result = list(map(lambda x: x-mean,values))\n",
    "print(result)"
   ]
  },
  {
   "cell_type": "code",
   "execution_count": 14,
   "metadata": {},
   "outputs": [
    {
     "name": "stdout",
     "output_type": "stream",
     "text": [
      "[23, 42]\n"
     ]
    }
   ],
   "source": [
    "values = [4, 8, 15, 16, 23, 42]\n",
    "mean = 18\n",
    "\n",
    "result = list(filter(lambda x: x >mean, values))\n",
    "print(result)"
   ]
  },
  {
   "cell_type": "code",
   "execution_count": 15,
   "metadata": {},
   "outputs": [
    {
     "name": "stdout",
     "output_type": "stream",
     "text": [
      "0.5\n"
     ]
    }
   ],
   "source": [
    "std = 42 \n",
    "\n",
    "def normalize(value):\n",
    "    result = value/std\n",
    "    return result \n",
    "    \n",
    "print(normalize(21)) "
   ]
  },
  {
   "cell_type": "code",
   "execution_count": null,
   "metadata": {},
   "outputs": [],
   "source": []
  },
  {
   "cell_type": "code",
   "execution_count": null,
   "metadata": {},
   "outputs": [],
   "source": []
  },
  {
   "cell_type": "code",
   "execution_count": null,
   "metadata": {},
   "outputs": [],
   "source": []
  },
  {
   "cell_type": "code",
   "execution_count": null,
   "metadata": {},
   "outputs": [],
   "source": []
  }
 ],
 "metadata": {
  "kernelspec": {
   "display_name": "Python 3",
   "language": "python",
   "name": "python3"
  },
  "language_info": {
   "codemirror_mode": {
    "name": "ipython",
    "version": 3
   },
   "file_extension": ".py",
   "mimetype": "text/x-python",
   "name": "python",
   "nbconvert_exporter": "python",
   "pygments_lexer": "ipython3",
   "version": "3.7.4"
  }
 },
 "nbformat": 4,
 "nbformat_minor": 2
}
