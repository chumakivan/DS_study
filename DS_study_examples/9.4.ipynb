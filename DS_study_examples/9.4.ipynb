{
 "cells": [
  {
   "cell_type": "code",
   "execution_count": 1,
   "metadata": {},
   "outputs": [],
   "source": [
    "import numpy as np"
   ]
  },
  {
   "cell_type": "code",
   "execution_count": 2,
   "metadata": {},
   "outputs": [],
   "source": [
    "first = [x**(1/2) for x in range(100)]\n",
    "second = [x**(1/3) for x in range(100, 200)]\n",
    "third = [x/y for x in range(200,300,2) for y in [3,5]]\n",
    "\n",
    "great_secret = np.array([first, second, third]).T"
   ]
  },
  {
   "cell_type": "code",
   "execution_count": 3,
   "metadata": {},
   "outputs": [
    {
     "data": {
      "text/plain": [
       "(100, 3)"
      ]
     },
     "execution_count": 3,
     "metadata": {},
     "output_type": "execute_result"
    }
   ],
   "source": [
    "great_secret.shape"
   ]
  },
  {
   "cell_type": "code",
   "execution_count": 4,
   "metadata": {},
   "outputs": [
    {
     "data": {
      "text/plain": [
       "2"
      ]
     },
     "execution_count": 4,
     "metadata": {},
     "output_type": "execute_result"
    }
   ],
   "source": [
    "great_secret.ndim"
   ]
  },
  {
   "cell_type": "code",
   "execution_count": 27,
   "metadata": {},
   "outputs": [
    {
     "data": {
      "text/plain": [
       "array([[ 0.        ,  4.64158883, 66.66666667],\n",
       "       [ 1.        ,  4.65700951, 40.        ],\n",
       "       [ 1.41421356,  4.67232873, 67.33333333],\n",
       "       [ 1.73205081,  4.68754815, 40.4       ],\n",
       "       [ 2.        ,  4.70266938, 68.        ],\n",
       "       [ 2.23606798,  4.71769398, 40.8       ],\n",
       "       [ 2.44948974,  4.73262349, 68.66666667],\n",
       "       [ 2.64575131,  4.7474594 , 41.2       ],\n",
       "       [ 2.82842712,  4.76220316, 69.33333333],\n",
       "       [ 3.        ,  4.77685618, 41.6       ],\n",
       "       [ 3.16227766,  4.79141986, 70.        ],\n",
       "       [ 3.31662479,  4.80589553, 42.        ],\n",
       "       [ 3.46410162,  4.82028453, 70.66666667],\n",
       "       [ 3.60555128,  4.83458813, 42.4       ],\n",
       "       [ 3.74165739,  4.84880759, 71.33333333],\n",
       "       [ 3.87298335,  4.86294413, 42.8       ],\n",
       "       [ 4.        ,  4.87699896, 72.        ],\n",
       "       [ 4.12310563,  4.89097325, 43.2       ],\n",
       "       [ 4.24264069,  4.90486813, 72.66666667],\n",
       "       [ 4.35889894,  4.91868473, 43.6       ],\n",
       "       [ 4.47213595,  4.93242415, 73.33333333],\n",
       "       [ 4.58257569,  4.94608744, 44.        ],\n",
       "       [ 4.69041576,  4.95967566, 74.        ],\n",
       "       [ 4.79583152,  4.97318983, 44.4       ],\n",
       "       [ 4.89897949,  4.98663095, 74.66666667],\n",
       "       [ 5.        ,  5.        , 44.8       ],\n",
       "       [ 5.09901951,  5.01329793, 75.33333333],\n",
       "       [ 5.19615242,  5.0265257 , 45.2       ],\n",
       "       [ 5.29150262,  5.0396842 , 76.        ],\n",
       "       [ 5.38516481,  5.05277435, 45.6       ],\n",
       "       [ 5.47722558,  5.06579702, 76.66666667],\n",
       "       [ 5.56776436,  5.07875308, 46.        ],\n",
       "       [ 5.65685425,  5.09164337, 77.33333333],\n",
       "       [ 5.74456265,  5.10446872, 46.4       ],\n",
       "       [ 5.83095189,  5.11722995, 78.        ],\n",
       "       [ 5.91607978,  5.12992784, 46.8       ],\n",
       "       [ 6.        ,  5.14256318, 78.66666667],\n",
       "       [ 6.08276253,  5.15513674, 47.2       ],\n",
       "       [ 6.164414  ,  5.16764925, 79.33333333],\n",
       "       [ 6.244998  ,  5.18010147, 47.6       ],\n",
       "       [ 6.32455532,  5.1924941 , 80.        ],\n",
       "       [ 6.40312424,  5.20482786, 48.        ],\n",
       "       [ 6.4807407 ,  5.21710345, 80.66666667],\n",
       "       [ 6.55743852,  5.22932153, 48.4       ],\n",
       "       [ 6.63324958,  5.24148279, 81.33333333],\n",
       "       [ 6.70820393,  5.25358787, 48.8       ],\n",
       "       [ 6.78232998,  5.26563743, 82.        ],\n",
       "       [ 6.8556546 ,  5.27763209, 49.2       ],\n",
       "       [ 6.92820323,  5.28957247, 82.66666667],\n",
       "       [ 7.        ,  5.30145919, 49.6       ],\n",
       "       [ 7.07106781,  5.31329285, 83.33333333],\n",
       "       [ 7.14142843,  5.32507402, 50.        ],\n",
       "       [ 7.21110255,  5.3368033 , 84.        ],\n",
       "       [ 7.28010989,  5.34848124, 50.4       ],\n",
       "       [ 7.34846923,  5.36010841, 84.66666667],\n",
       "       [ 7.41619849,  5.37168535, 50.8       ],\n",
       "       [ 7.48331477,  5.38321261, 85.33333333],\n",
       "       [ 7.54983444,  5.39469071, 51.2       ],\n",
       "       [ 7.61577311,  5.40612018, 86.        ],\n",
       "       [ 7.68114575,  5.41750151, 51.6       ],\n",
       "       [ 7.74596669,  5.42883523, 86.66666667],\n",
       "       [ 7.81024968,  5.44012183, 52.        ],\n",
       "       [ 7.87400787,  5.45136178, 87.33333333],\n",
       "       [ 7.93725393,  5.46255557, 52.4       ],\n",
       "       [ 8.        ,  5.47370367, 88.        ],\n",
       "       [ 8.06225775,  5.48480655, 52.8       ],\n",
       "       [ 8.1240384 ,  5.49586466, 88.66666667],\n",
       "       [ 8.18535277,  5.50687845, 53.2       ],\n",
       "       [ 8.24621125,  5.51784835, 89.33333333],\n",
       "       [ 8.30662386,  5.52877481, 53.6       ],\n",
       "       [ 8.36660027,  5.53965826, 90.        ],\n",
       "       [ 8.42614977,  5.5504991 , 54.        ],\n",
       "       [ 8.48528137,  5.56129777, 90.66666667],\n",
       "       [ 8.54400375,  5.57205466, 54.4       ],\n",
       "       [ 8.60232527,  5.58277017, 91.33333333],\n",
       "       [ 8.66025404,  5.59344471, 54.8       ],\n",
       "       [ 8.71779789,  5.60407866, 92.        ],\n",
       "       [ 8.77496439,  5.61467241, 55.2       ],\n",
       "       [ 8.83176087,  5.62522633, 92.66666667],\n",
       "       [ 8.88819442,  5.63574079, 55.6       ],\n",
       "       [ 8.94427191,  5.64621617, 93.33333333],\n",
       "       [ 9.        ,  5.65665283, 56.        ],\n",
       "       [ 9.05538514,  5.66705111, 94.        ],\n",
       "       [ 9.11043358,  5.67741137, 56.4       ],\n",
       "       [ 9.16515139,  5.68773396, 94.66666667],\n",
       "       [ 9.21954446,  5.69801922, 56.8       ],\n",
       "       [ 9.2736185 ,  5.70826747, 95.33333333],\n",
       "       [ 9.32737905,  5.71847906, 57.2       ],\n",
       "       [ 9.38083152,  5.72865432, 96.        ],\n",
       "       [ 9.43398113,  5.73879355, 57.6       ],\n",
       "       [ 9.48683298,  5.74889708, 96.66666667],\n",
       "       [ 9.53939201,  5.75896522, 58.        ],\n",
       "       [ 9.59166305,  5.76899828, 97.33333333],\n",
       "       [ 9.64365076,  5.77899657, 58.4       ],\n",
       "       [ 9.69535971,  5.78896037, 98.        ],\n",
       "       [ 9.74679434,  5.79889   , 58.8       ],\n",
       "       [ 9.79795897,  5.80878573, 98.66666667],\n",
       "       [ 9.8488578 ,  5.81864787, 59.2       ],\n",
       "       [ 9.89949494,  5.82847668, 99.33333333],\n",
       "       [ 9.94987437,  5.83827246, 59.6       ]])"
      ]
     },
     "execution_count": 27,
     "metadata": {},
     "output_type": "execute_result"
    }
   ],
   "source": [
    "great_secret"
   ]
  },
  {
   "cell_type": "code",
   "execution_count": null,
   "metadata": {},
   "outputs": [],
   "source": []
  },
  {
   "cell_type": "code",
   "execution_count": 15,
   "metadata": {},
   "outputs": [
    {
     "data": {
      "text/plain": [
       "array([[ 0.        ,  4.64158883, 66.66666667]])"
      ]
     },
     "execution_count": 15,
     "metadata": {},
     "output_type": "execute_result"
    }
   ],
   "source": [
    "great_secret[:1,:]"
   ]
  },
  {
   "cell_type": "code",
   "execution_count": 18,
   "metadata": {},
   "outputs": [
    {
     "data": {
      "text/plain": [
       "0.16006721889793019"
      ]
     },
     "execution_count": 18,
     "metadata": {},
     "output_type": "execute_result"
    }
   ],
   "source": [
    "np.cos(great_secret[:1,:]).sum()"
   ]
  },
  {
   "cell_type": "code",
   "execution_count": 19,
   "metadata": {},
   "outputs": [
    {
     "data": {
      "text/plain": [
       "array([[ 1.        , -0.07074101, -0.76919177]])"
      ]
     },
     "execution_count": 19,
     "metadata": {},
     "output_type": "execute_result"
    }
   ],
   "source": [
    "np.cos(great_secret[:1,:])"
   ]
  },
  {
   "cell_type": "code",
   "execution_count": 20,
   "metadata": {},
   "outputs": [
    {
     "data": {
      "text/plain": [
       "5470.0"
      ]
     },
     "execution_count": 20,
     "metadata": {},
     "output_type": "execute_result"
    }
   ],
   "source": [
    "np.sum(great_secret[great_secret>50])"
   ]
  },
  {
   "cell_type": "code",
   "execution_count": 21,
   "metadata": {},
   "outputs": [],
   "source": [
    "great_secret_raw = great_secret.reshape(1,300)"
   ]
  },
  {
   "cell_type": "code",
   "execution_count": 22,
   "metadata": {},
   "outputs": [
    {
     "data": {
      "text/plain": [
       "(1, 300)"
      ]
     },
     "execution_count": 22,
     "metadata": {},
     "output_type": "execute_result"
    }
   ],
   "source": [
    "great_secret_raw.shape"
   ]
  },
  {
   "cell_type": "code",
   "execution_count": 29,
   "metadata": {},
   "outputs": [
    {
     "data": {
      "text/plain": [
       "7.0710678118654755"
      ]
     },
     "execution_count": 29,
     "metadata": {},
     "output_type": "execute_result"
    }
   ],
   "source": [
    "great_secret_raw[0,150]"
   ]
  },
  {
   "cell_type": "code",
   "execution_count": 30,
   "metadata": {},
   "outputs": [
    {
     "data": {
      "text/plain": [
       "115.12148016521353"
      ]
     },
     "execution_count": 30,
     "metadata": {},
     "output_type": "execute_result"
    }
   ],
   "source": [
    "np.sort(great_secret,axis=0)[-1,:].sum()"
   ]
  },
  {
   "cell_type": "code",
   "execution_count": null,
   "metadata": {},
   "outputs": [],
   "source": []
  },
  {
   "cell_type": "code",
   "execution_count": null,
   "metadata": {},
   "outputs": [],
   "source": []
  },
  {
   "cell_type": "code",
   "execution_count": null,
   "metadata": {},
   "outputs": [],
   "source": []
  },
  {
   "cell_type": "code",
   "execution_count": null,
   "metadata": {},
   "outputs": [],
   "source": []
  }
 ],
 "metadata": {
  "kernelspec": {
   "display_name": "Python 3",
   "language": "python",
   "name": "python3"
  },
  "language_info": {
   "codemirror_mode": {
    "name": "ipython",
    "version": 3
   },
   "file_extension": ".py",
   "mimetype": "text/x-python",
   "name": "python",
   "nbconvert_exporter": "python",
   "pygments_lexer": "ipython3",
   "version": "3.7.4"
  }
 },
 "nbformat": 4,
 "nbformat_minor": 2
}
