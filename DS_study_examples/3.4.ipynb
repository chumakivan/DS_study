{
 "cells": [
  {
   "cell_type": "markdown",
   "metadata": {},
   "source": [
    "Дана переменная string, в которой нужно заменить все знаки препинания на смайлики (':)'). Знаками препинания считайте символы: точка, запятая, двоеточие, тире (дефис), восклицательный и вопросительный знаки. Значение переменной string должно измениться в процессе выполнения программы.\n",
    "\n",
    "Решите задачу для string = 'Тяжёлая интернет-зависимость - это когда ты выходишь из интернета, а он из тебя нет.'\n",
    "\n",
    "Пример:\n",
    "исходное значение переменной: string = 'Привет, Андрей!'\n",
    "итоговое значение переменной: string = 'Привет:) Андрей:)'"
   ]
  },
  {
   "cell_type": "code",
   "execution_count": 5,
   "metadata": {},
   "outputs": [
    {
     "name": "stdout",
     "output_type": "stream",
     "text": [
      "Тяжёлая интернет:)зависимость :) это когда ты выходишь из интернета:) а он из тебя нет:)\n",
      "[':)', ':)', ':)', ':)']\n"
     ]
    }
   ],
   "source": [
    "string = 'Тяжёлая интернет-зависимость - это когда ты выходишь из интернета, а он из тебя нет.'\n",
    "simbols = ['.',',',':','-','!','?']\n",
    "simbols_short = ':.,-!?'\n",
    "for char in simbols_short:\n",
    "    string = string.replace(char,':)')\n",
    "experiment = [x.replace(x,':)') for x in string if x in simbols_short]\n",
    "print(string)\n",
    "print(experiment)"
   ]
  },
  {
   "cell_type": "markdown",
   "metadata": {},
   "source": [
    "Дана переменная name, в которой хранится имя пользователя, записанное русскими буквами. Напишите программу, которая перебирает имя по буквам и для каждой буквы выводит сообщение: \"... - гласная буква\" или \"... - согласная буква\", где вместо многоточия нужно подставить букву из имени пользователя.\n",
    "\n",
    "Значение переменной name не должно меняться в ходе выполнения программы. В сообщениях, выводимых на экран, буквы из имени пользователя должны выводиться в том же регистре, в котором они присутствуют в переменной name.\n",
    "\n",
    "Решите задачу для name = 'Севастиан'\n",
    "\n",
    "Пример работы программы для имени Анна:\n",
    "А - гласная буква\n",
    "н - согласная буква\n",
    "н - согласная буква\n",
    "а - гласная буква\n",
    "\n",
    "Подсказка: чтобы избавить себя от необходимости выполнять проверку сложного составного условия, вы можете создать два списка с буквами: в одном хранить гласные буквы, а в другом — согласные."
   ]
  },
  {
   "cell_type": "code",
   "execution_count": 7,
   "metadata": {},
   "outputs": [
    {
     "name": "stdout",
     "output_type": "stream",
     "text": [
      "С - согласная буква\n",
      "е - гласная буква\n",
      "в - согласная буква\n",
      "а - гласная буква\n",
      "с - согласная буква\n",
      "т - согласная буква\n",
      "и - гласная буква\n",
      "а - гласная буква\n",
      "н - согласная буква\n"
     ]
    }
   ],
   "source": [
    "name = 'Севастиан'\n",
    "glasnie = 'ауоыиэяюёе'\n",
    "soglasnie = 'бвгджзйклмнпрстфхцчшщ'\n",
    "for char in name:\n",
    "    if char.lower() in glasnie:\n",
    "        print(f'{char} - гласная буква')\n",
    "    elif char.lower() in soglasnie:\n",
    "        print(f'{char} - согласная буква')"
   ]
  },
  {
   "cell_type": "code",
   "execution_count": null,
   "metadata": {},
   "outputs": [],
   "source": []
  },
  {
   "cell_type": "code",
   "execution_count": null,
   "metadata": {},
   "outputs": [],
   "source": []
  },
  {
   "cell_type": "code",
   "execution_count": null,
   "metadata": {},
   "outputs": [],
   "source": []
  },
  {
   "cell_type": "code",
   "execution_count": null,
   "metadata": {},
   "outputs": [],
   "source": []
  }
 ],
 "metadata": {
  "kernelspec": {
   "display_name": "Python 3",
   "language": "python",
   "name": "python3"
  },
  "language_info": {
   "codemirror_mode": {
    "name": "ipython",
    "version": 3
   },
   "file_extension": ".py",
   "mimetype": "text/x-python",
   "name": "python",
   "nbconvert_exporter": "python",
   "pygments_lexer": "ipython3",
   "version": "3.7.4"
  }
 },
 "nbformat": 4,
 "nbformat_minor": 2
}
