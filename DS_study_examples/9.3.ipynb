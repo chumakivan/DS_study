{
 "cells": [
  {
   "cell_type": "code",
   "execution_count": 3,
   "metadata": {},
   "outputs": [],
   "source": [
    "import numpy as np"
   ]
  },
  {
   "cell_type": "code",
   "execution_count": 4,
   "metadata": {},
   "outputs": [],
   "source": [
    "first_line = [x*y for x in range(2, 100, 6) for y in range (7, 1, -2)]\n",
    "second_line = [x ** 0.5 for x in range(1000, 1101, 2)]\n",
    "third_line = [x**2 for x in range(51)]\n",
    "\n",
    "big_secret = np.array([first_line, second_line, third_line, second_line, first_line])"
   ]
  },
  {
   "cell_type": "code",
   "execution_count": 5,
   "metadata": {},
   "outputs": [
    {
     "data": {
      "text/plain": [
       "array([[1.40000000e+01, 1.00000000e+01, 6.00000000e+00, 5.60000000e+01,\n",
       "        4.00000000e+01, 2.40000000e+01, 9.80000000e+01, 7.00000000e+01,\n",
       "        4.20000000e+01, 1.40000000e+02, 1.00000000e+02, 6.00000000e+01,\n",
       "        1.82000000e+02, 1.30000000e+02, 7.80000000e+01, 2.24000000e+02,\n",
       "        1.60000000e+02, 9.60000000e+01, 2.66000000e+02, 1.90000000e+02,\n",
       "        1.14000000e+02, 3.08000000e+02, 2.20000000e+02, 1.32000000e+02,\n",
       "        3.50000000e+02, 2.50000000e+02, 1.50000000e+02, 3.92000000e+02,\n",
       "        2.80000000e+02, 1.68000000e+02, 4.34000000e+02, 3.10000000e+02,\n",
       "        1.86000000e+02, 4.76000000e+02, 3.40000000e+02, 2.04000000e+02,\n",
       "        5.18000000e+02, 3.70000000e+02, 2.22000000e+02, 5.60000000e+02,\n",
       "        4.00000000e+02, 2.40000000e+02, 6.02000000e+02, 4.30000000e+02,\n",
       "        2.58000000e+02, 6.44000000e+02, 4.60000000e+02, 2.76000000e+02,\n",
       "        6.86000000e+02, 4.90000000e+02, 2.94000000e+02],\n",
       "       [3.16227766e+01, 3.16543836e+01, 3.16859590e+01, 3.17175031e+01,\n",
       "        3.17490157e+01, 3.17804972e+01, 3.18119474e+01, 3.18433667e+01,\n",
       "        3.18747549e+01, 3.19061123e+01, 3.19374388e+01, 3.19687347e+01,\n",
       "        3.20000000e+01, 3.20312348e+01, 3.20624391e+01, 3.20936131e+01,\n",
       "        3.21247568e+01, 3.21558704e+01, 3.21869539e+01, 3.22180074e+01,\n",
       "        3.22490310e+01, 3.22800248e+01, 3.23109888e+01, 3.23419233e+01,\n",
       "        3.23728281e+01, 3.24037035e+01, 3.24345495e+01, 3.24653662e+01,\n",
       "        3.24961536e+01, 3.25269119e+01, 3.25576412e+01, 3.25883415e+01,\n",
       "        3.26190129e+01, 3.26496554e+01, 3.26802693e+01, 3.27108545e+01,\n",
       "        3.27414111e+01, 3.27719392e+01, 3.28024389e+01, 3.28329103e+01,\n",
       "        3.28633535e+01, 3.28937684e+01, 3.29241553e+01, 3.29545141e+01,\n",
       "        3.29848450e+01, 3.30151480e+01, 3.30454233e+01, 3.30756708e+01,\n",
       "        3.31058907e+01, 3.31360831e+01, 3.31662479e+01],\n",
       "       [0.00000000e+00, 1.00000000e+00, 4.00000000e+00, 9.00000000e+00,\n",
       "        1.60000000e+01, 2.50000000e+01, 3.60000000e+01, 4.90000000e+01,\n",
       "        6.40000000e+01, 8.10000000e+01, 1.00000000e+02, 1.21000000e+02,\n",
       "        1.44000000e+02, 1.69000000e+02, 1.96000000e+02, 2.25000000e+02,\n",
       "        2.56000000e+02, 2.89000000e+02, 3.24000000e+02, 3.61000000e+02,\n",
       "        4.00000000e+02, 4.41000000e+02, 4.84000000e+02, 5.29000000e+02,\n",
       "        5.76000000e+02, 6.25000000e+02, 6.76000000e+02, 7.29000000e+02,\n",
       "        7.84000000e+02, 8.41000000e+02, 9.00000000e+02, 9.61000000e+02,\n",
       "        1.02400000e+03, 1.08900000e+03, 1.15600000e+03, 1.22500000e+03,\n",
       "        1.29600000e+03, 1.36900000e+03, 1.44400000e+03, 1.52100000e+03,\n",
       "        1.60000000e+03, 1.68100000e+03, 1.76400000e+03, 1.84900000e+03,\n",
       "        1.93600000e+03, 2.02500000e+03, 2.11600000e+03, 2.20900000e+03,\n",
       "        2.30400000e+03, 2.40100000e+03, 2.50000000e+03],\n",
       "       [3.16227766e+01, 3.16543836e+01, 3.16859590e+01, 3.17175031e+01,\n",
       "        3.17490157e+01, 3.17804972e+01, 3.18119474e+01, 3.18433667e+01,\n",
       "        3.18747549e+01, 3.19061123e+01, 3.19374388e+01, 3.19687347e+01,\n",
       "        3.20000000e+01, 3.20312348e+01, 3.20624391e+01, 3.20936131e+01,\n",
       "        3.21247568e+01, 3.21558704e+01, 3.21869539e+01, 3.22180074e+01,\n",
       "        3.22490310e+01, 3.22800248e+01, 3.23109888e+01, 3.23419233e+01,\n",
       "        3.23728281e+01, 3.24037035e+01, 3.24345495e+01, 3.24653662e+01,\n",
       "        3.24961536e+01, 3.25269119e+01, 3.25576412e+01, 3.25883415e+01,\n",
       "        3.26190129e+01, 3.26496554e+01, 3.26802693e+01, 3.27108545e+01,\n",
       "        3.27414111e+01, 3.27719392e+01, 3.28024389e+01, 3.28329103e+01,\n",
       "        3.28633535e+01, 3.28937684e+01, 3.29241553e+01, 3.29545141e+01,\n",
       "        3.29848450e+01, 3.30151480e+01, 3.30454233e+01, 3.30756708e+01,\n",
       "        3.31058907e+01, 3.31360831e+01, 3.31662479e+01],\n",
       "       [1.40000000e+01, 1.00000000e+01, 6.00000000e+00, 5.60000000e+01,\n",
       "        4.00000000e+01, 2.40000000e+01, 9.80000000e+01, 7.00000000e+01,\n",
       "        4.20000000e+01, 1.40000000e+02, 1.00000000e+02, 6.00000000e+01,\n",
       "        1.82000000e+02, 1.30000000e+02, 7.80000000e+01, 2.24000000e+02,\n",
       "        1.60000000e+02, 9.60000000e+01, 2.66000000e+02, 1.90000000e+02,\n",
       "        1.14000000e+02, 3.08000000e+02, 2.20000000e+02, 1.32000000e+02,\n",
       "        3.50000000e+02, 2.50000000e+02, 1.50000000e+02, 3.92000000e+02,\n",
       "        2.80000000e+02, 1.68000000e+02, 4.34000000e+02, 3.10000000e+02,\n",
       "        1.86000000e+02, 4.76000000e+02, 3.40000000e+02, 2.04000000e+02,\n",
       "        5.18000000e+02, 3.70000000e+02, 2.22000000e+02, 5.60000000e+02,\n",
       "        4.00000000e+02, 2.40000000e+02, 6.02000000e+02, 4.30000000e+02,\n",
       "        2.58000000e+02, 6.44000000e+02, 4.60000000e+02, 2.76000000e+02,\n",
       "        6.86000000e+02, 4.90000000e+02, 2.94000000e+02]])"
      ]
     },
     "execution_count": 5,
     "metadata": {},
     "output_type": "execute_result"
    }
   ],
   "source": [
    "big_secret"
   ]
  },
  {
   "cell_type": "code",
   "execution_count": 5,
   "metadata": {},
   "outputs": [
    {
     "data": {
      "text/plain": [
       "3154.332495807108"
      ]
     },
     "execution_count": 5,
     "metadata": {},
     "output_type": "execute_result"
    }
   ],
   "source": [
    "big_secret[:,-1].sum()"
   ]
  },
  {
   "cell_type": "code",
   "execution_count": 8,
   "metadata": {},
   "outputs": [
    {
     "data": {
      "text/plain": [
       "(5, 51)"
      ]
     },
     "execution_count": 8,
     "metadata": {},
     "output_type": "execute_result"
    }
   ],
   "source": [
    "big_secret.shape"
   ]
  },
  {
   "cell_type": "code",
   "execution_count": 12,
   "metadata": {},
   "outputs": [],
   "source": [
    "big_secret_5x5 = big_secret[:,:5]"
   ]
  },
  {
   "cell_type": "code",
   "execution_count": 16,
   "metadata": {},
   "outputs": [
    {
     "data": {
      "text/plain": [
       "121.37188663699624"
      ]
     },
     "execution_count": 16,
     "metadata": {},
     "output_type": "execute_result"
    }
   ],
   "source": [
    "big_secret_5x5.diagonal().sum()"
   ]
  },
  {
   "cell_type": "code",
   "execution_count": 17,
   "metadata": {},
   "outputs": [
    {
     "data": {
      "text/plain": [
       "array([[14.        , 10.        ,  6.        , 56.        , 40.        ],\n",
       "       [31.6227766 , 31.65438358, 31.68595904, 31.71750305, 31.74901573],\n",
       "       [ 0.        ,  1.        ,  4.        ,  9.        , 16.        ],\n",
       "       [31.6227766 , 31.65438358, 31.68595904, 31.71750305, 31.74901573],\n",
       "       [14.        , 10.        ,  6.        , 56.        , 40.        ]])"
      ]
     },
     "execution_count": 17,
     "metadata": {},
     "output_type": "execute_result"
    }
   ],
   "source": [
    "big_secret_5x5"
   ]
  },
  {
   "cell_type": "code",
   "execution_count": 77,
   "metadata": {},
   "outputs": [],
   "source": [
    "big_secret_5x5_last = big_secret[:,-6::1]"
   ]
  },
  {
   "cell_type": "code",
   "execution_count": 79,
   "metadata": {},
   "outputs": [
    {
     "name": "stdout",
     "output_type": "stream",
     "text": [
      "-1.0\n",
      "-1.0\n",
      "1.0\n",
      "1.0\n",
      "-1.0\n"
     ]
    }
   ],
   "source": [
    "z=1\n",
    "for i in flip_big_secret.diagonal():\n",
    "    z=z*i\n",
    "    print(z)\n"
   ]
  },
  {
   "cell_type": "code",
   "execution_count": null,
   "metadata": {},
   "outputs": [],
   "source": [
    "762595537404.2002"
   ]
  },
  {
   "cell_type": "code",
   "execution_count": null,
   "metadata": {},
   "outputs": [],
   "source": []
  },
  {
   "cell_type": "code",
   "execution_count": null,
   "metadata": {},
   "outputs": [],
   "source": []
  },
  {
   "cell_type": "code",
   "execution_count": 78,
   "metadata": {},
   "outputs": [],
   "source": [
    "flip_big_secret = np.fliplr(big_secret_5x5_last)"
   ]
  },
  {
   "cell_type": "code",
   "execution_count": 56,
   "metadata": {},
   "outputs": [
    {
     "data": {
      "text/plain": [
       "array([[ 294.        ,  490.        ,  686.        ,  276.        ,\n",
       "         460.        ,  644.        ],\n",
       "       [  33.1662479 ,   33.13608305,   33.10589071,   33.07567082,\n",
       "          33.04542328,   33.01514804],\n",
       "       [2500.        , 2401.        , 2304.        , 2209.        ,\n",
       "        2116.        , 2025.        ],\n",
       "       [  33.1662479 ,   33.13608305,   33.10589071,   33.07567082,\n",
       "          33.04542328,   33.01514804],\n",
       "       [ 294.        ,  490.        ,  686.        ,  276.        ,\n",
       "         460.        ,  644.        ]])"
      ]
     },
     "execution_count": 56,
     "metadata": {},
     "output_type": "execute_result"
    }
   ],
   "source": [
    "flip_big_secret"
   ]
  },
  {
   "cell_type": "code",
   "execution_count": 32,
   "metadata": {},
   "outputs": [
    {
     "data": {
      "text/plain": [
       "644.0"
      ]
     },
     "execution_count": 32,
     "metadata": {},
     "output_type": "execute_result"
    }
   ],
   "source": [
    "flip_big_secret[0,-]"
   ]
  },
  {
   "cell_type": "code",
   "execution_count": 54,
   "metadata": {},
   "outputs": [
    {
     "data": {
      "text/plain": [
       "array([[ 644.        ,  460.        ,  276.        ,  686.        ,\n",
       "         490.        ,  294.        ],\n",
       "       [  33.01514804,   33.04542328,   33.07567082,   33.10589071,\n",
       "          33.13608305,   33.1662479 ],\n",
       "       [2025.        , 2116.        , 2209.        , 2304.        ,\n",
       "        2401.        , 2500.        ],\n",
       "       [  33.01514804,   33.04542328,   33.07567082,   33.10589071,\n",
       "          33.13608305,   33.1662479 ],\n",
       "       [ 644.        ,  460.        ,  276.        ,  686.        ,\n",
       "         490.        ,  294.        ]])"
      ]
     },
     "execution_count": 54,
     "metadata": {},
     "output_type": "execute_result"
    }
   ],
   "source": [
    "big_secret_5x5_last"
   ]
  },
  {
   "cell_type": "code",
   "execution_count": 30,
   "metadata": {},
   "outputs": [
    {
     "data": {
      "text/plain": [
       "490.0"
      ]
     },
     "execution_count": 30,
     "metadata": {},
     "output_type": "execute_result"
    }
   ],
   "source": [
    "big_secret_5x5_last[0,-1]"
   ]
  },
  {
   "cell_type": "code",
   "execution_count": 39,
   "metadata": {},
   "outputs": [
    {
     "data": {
      "text/plain": [
       "490.0"
      ]
     },
     "execution_count": 39,
     "metadata": {},
     "output_type": "execute_result"
    }
   ],
   "source": [
    "big_secret[0,-2]"
   ]
  },
  {
   "cell_type": "code",
   "execution_count": 58,
   "metadata": {},
   "outputs": [],
   "source": [
    "my_array = np.random.randint(1, 100, (4, 6))"
   ]
  },
  {
   "cell_type": "code",
   "execution_count": 64,
   "metadata": {},
   "outputs": [
    {
     "data": {
      "text/plain": [
       "array([[ 5, 33, 79, 53, 14, 42],\n",
       "       [19, 73,  0,  0, 92, 73],\n",
       "       [34, 86,  0,  0, 29, 20],\n",
       "       [29, 10, 85, 37, 13, 74]])"
      ]
     },
     "execution_count": 64,
     "metadata": {},
     "output_type": "execute_result"
    }
   ],
   "source": [
    "my_array"
   ]
  },
  {
   "cell_type": "code",
   "execution_count": 60,
   "metadata": {},
   "outputs": [],
   "source": [
    "my_slice = my_array[1:3, 2:4]"
   ]
  },
  {
   "cell_type": "code",
   "execution_count": 61,
   "metadata": {},
   "outputs": [
    {
     "data": {
      "text/plain": [
       "array([[24,  8],\n",
       "       [44, 82]])"
      ]
     },
     "execution_count": 61,
     "metadata": {},
     "output_type": "execute_result"
    }
   ],
   "source": [
    "my_slice"
   ]
  },
  {
   "cell_type": "code",
   "execution_count": 62,
   "metadata": {},
   "outputs": [],
   "source": [
    "my_slice[:]=0"
   ]
  },
  {
   "cell_type": "code",
   "execution_count": 63,
   "metadata": {},
   "outputs": [
    {
     "data": {
      "text/plain": [
       "array([[0, 0],\n",
       "       [0, 0]])"
      ]
     },
     "execution_count": 63,
     "metadata": {},
     "output_type": "execute_result"
    }
   ],
   "source": [
    "my_slice"
   ]
  },
  {
   "cell_type": "code",
   "execution_count": 70,
   "metadata": {},
   "outputs": [
    {
     "data": {
      "text/plain": [
       "int"
      ]
     },
     "execution_count": 70,
     "metadata": {},
     "output_type": "execute_result"
    }
   ],
   "source": [
    "type(big_secret.shape[0])"
   ]
  },
  {
   "cell_type": "code",
   "execution_count": 71,
   "metadata": {},
   "outputs": [],
   "source": [
    "for i in range(0,big_secret.shape[0]):\n",
    "    for j in range(0,big_secret.shape[1]):\n",
    "        if i%2==0 and j%2==0:\n",
    "            big_secret[i,j]=-1\n",
    "        elif i%2!=0 and j%2!=0:\n",
    "            big_secret[i,j]=1\n",
    "            "
   ]
  },
  {
   "cell_type": "code",
   "execution_count": 73,
   "metadata": {},
   "outputs": [
    {
     "data": {
      "text/plain": [
       "(5, 51)"
      ]
     },
     "execution_count": 73,
     "metadata": {},
     "output_type": "execute_result"
    }
   ],
   "source": [
    "big_secret.shape"
   ]
  },
  {
   "cell_type": "code",
   "execution_count": 74,
   "metadata": {},
   "outputs": [],
   "source": [
    "big_secret_5x5 = big_secret[:,:5]"
   ]
  },
  {
   "cell_type": "code",
   "execution_count": 76,
   "metadata": {},
   "outputs": [
    {
     "data": {
      "text/plain": [
       "-1.0"
      ]
     },
     "execution_count": 76,
     "metadata": {},
     "output_type": "execute_result"
    }
   ],
   "source": [
    "big_secret_5x5.diagonal().sum()"
   ]
  },
  {
   "cell_type": "code",
   "execution_count": 80,
   "metadata": {},
   "outputs": [
    {
     "name": "stdout",
     "output_type": "stream",
     "text": [
      "Сумма: [15 21 27]\n",
      "Разность: [9 9 9]\n",
      "Произведение: [ 36  90 162]\n",
      "Частное: [0.25 0.4  0.5 ]\n",
      "Умножение на число: [ 6 12 18]\n"
     ]
    }
   ],
   "source": [
    "a = np.array([3,6,9])\n",
    "b = np.array([12,15,18])\n",
    "\n",
    "result1 = a+b\n",
    "result2 = b-a\n",
    "result3 = a*b\n",
    "result4 = a/b\n",
    "result5 = a*2\n",
    "print('Сумма: {}\\nРазность: {}\\nПроизведение: {}\\nЧастное: {}\\nУмножение на число: {}'.format(result1, result2, result3, result4, result5))"
   ]
  },
  {
   "cell_type": "code",
   "execution_count": null,
   "metadata": {},
   "outputs": [],
   "source": []
  },
  {
   "cell_type": "code",
   "execution_count": null,
   "metadata": {},
   "outputs": [],
   "source": []
  }
 ],
 "metadata": {
  "kernelspec": {
   "display_name": "Python 3",
   "language": "python",
   "name": "python3"
  },
  "language_info": {
   "codemirror_mode": {
    "name": "ipython",
    "version": 3
   },
   "file_extension": ".py",
   "mimetype": "text/x-python",
   "name": "python",
   "nbconvert_exporter": "python",
   "pygments_lexer": "ipython3",
   "version": "3.7.4"
  }
 },
 "nbformat": 4,
 "nbformat_minor": 2
}
