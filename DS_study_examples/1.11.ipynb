{
 "cells": [
  {
   "cell_type": "markdown",
   "metadata": {},
   "source": [
    "<img src='https://lms.skillfactory.ru/assets/courseware/v1/0d22e36137ee59805833400adf136815/asset-v1:Skillfactory+DST-PRO+15APR2020+type@asset+block/Screenshot_2019-04-09_at_16.37.14.png'>"
   ]
  },
  {
   "cell_type": "code",
   "execution_count": 3,
   "metadata": {},
   "outputs": [
    {
     "name": "stdout",
     "output_type": "stream",
     "text": [
      "20.0\n"
     ]
    }
   ],
   "source": [
    "x=((67+33)*(25-20))/25\n",
    "print(x)"
   ]
  },
  {
   "cell_type": "markdown",
   "metadata": {},
   "source": [
    "<img src=\"https://lms.skillfactory.ru/assets/courseware/v1/bd66d9520e44205e024494fe26c1f55b/asset-v1:Skillfactory+DST-PRO+15APR2020+type@asset+block/Screenshot_2019-04-09_at_16.42.52.png\">"
   ]
  },
  {
   "cell_type": "code",
   "execution_count": 4,
   "metadata": {},
   "outputs": [
    {
     "name": "stdout",
     "output_type": "stream",
     "text": [
      "17.414074767267998\n"
     ]
    }
   ],
   "source": [
    "x=(4+5*60-17+65/4)**(1/2)\n",
    "print(x)"
   ]
  },
  {
   "cell_type": "markdown",
   "metadata": {},
   "source": [
    "<img src=\"https://lms.skillfactory.ru/assets/courseware/v1/0d1c8108453b4ad836bde51c87144afc/asset-v1:Skillfactory+DST-PRO+15APR2020+type@asset+block/Screenshot_2019-04-09_at_16.55.07.png\">"
   ]
  },
  {
   "cell_type": "code",
   "execution_count": 5,
   "metadata": {},
   "outputs": [
    {
     "name": "stdout",
     "output_type": "stream",
     "text": [
      "1916.7312813742387\n"
     ]
    }
   ],
   "source": [
    "x=6.996+45*((13/2)**2)+2*((18)**(1/2))\n",
    "print(x)"
   ]
  },
  {
   "cell_type": "markdown",
   "metadata": {},
   "source": [
    "<img src=\"https://lms.skillfactory.ru/assets/courseware/v1/c87f37d605198678a72df1c394e0683f/asset-v1:Skillfactory+DST-PRO+15APR2020+type@asset+block/Screenshot_2019-04-09_at_16.57.00.png\">"
   ]
  },
  {
   "cell_type": "code",
   "execution_count": 6,
   "metadata": {},
   "outputs": [
    {
     "name": "stdout",
     "output_type": "stream",
     "text": [
      "-0.3909200032552083\n"
     ]
    }
   ],
   "source": [
    "x=(1267-20*((5**3)/2)**2)/(8**5*(36**(1/2)))\n",
    "print(x)"
   ]
  },
  {
   "cell_type": "markdown",
   "metadata": {},
   "source": [
    "<img src=\"https://lms.skillfactory.ru/assets/courseware/v1/4e5dd3e701139b139c0fd28e8c7207a8/asset-v1:Skillfactory+DST-PRO+15APR2020+type@asset+block/Screenshot_2019-04-09_at_16.59.52.png\">"
   ]
  },
  {
   "cell_type": "code",
   "execution_count": 8,
   "metadata": {},
   "outputs": [
    {
     "name": "stdout",
     "output_type": "stream",
     "text": [
      "-4251528.0\n"
     ]
    }
   ],
   "source": [
    "x=((((9**(1/2))**3)**2)**2)/-2**(0-3)\n",
    "print(x)"
   ]
  }
 ],
 "metadata": {
  "kernelspec": {
   "display_name": "Python 3",
   "language": "python",
   "name": "python3"
  },
  "language_info": {
   "codemirror_mode": {
    "name": "ipython",
    "version": 3
   },
   "file_extension": ".py",
   "mimetype": "text/x-python",
   "name": "python",
   "nbconvert_exporter": "python",
   "pygments_lexer": "ipython3",
   "version": "3.7.4"
  }
 },
 "nbformat": 4,
 "nbformat_minor": 2
}
