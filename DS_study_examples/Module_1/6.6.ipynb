{
 "cells": [
  {
   "cell_type": "code",
   "execution_count": 1,
   "metadata": {},
   "outputs": [],
   "source": [
    "import pandas as pd"
   ]
  },
  {
   "cell_type": "code",
   "execution_count": 2,
   "metadata": {},
   "outputs": [],
   "source": [
    "df = pd.read_csv('data_sf.csv.xls')"
   ]
  },
  {
   "cell_type": "markdown",
   "metadata": {},
   "source": [
    "У какого процента испанских специалистов (Nationality = 'Spain') зарплата (Wage) находится в пределах 25% минимума от наблюдаемого уровня зарплат? Ответ дайте в виде целого числа (округлите полученный результат) без знака %.\n",
    "\n",
    "Подсказка: Для решения задачи используйте value_counts() с параметром bins = 4."
   ]
  },
  {
   "cell_type": "code",
   "execution_count": 5,
   "metadata": {},
   "outputs": [
    {
     "data": {
      "text/plain": [
       "(435.999, 142000.0]     0.993875\n",
       "(142000.0, 283000.0]    0.004730\n",
       "(283000.0, 424000.0]    0.001241\n",
       "(424000.0, 565000.0]    0.000155\n",
       "Name: Wage, dtype: float64"
      ]
     },
     "metadata": {},
     "output_type": "display_data"
    }
   ],
   "source": [
    "df_1 = df['Wage'].value_counts(bins=4,normalize=True)\n",
    "display(df_1)"
   ]
  },
  {
   "cell_type": "code",
   "execution_count": 12,
   "metadata": {},
   "outputs": [
    {
     "data": {
      "text/html": [
       "<div>\n",
       "<style scoped>\n",
       "    .dataframe tbody tr th:only-of-type {\n",
       "        vertical-align: middle;\n",
       "    }\n",
       "\n",
       "    .dataframe tbody tr th {\n",
       "        vertical-align: top;\n",
       "    }\n",
       "\n",
       "    .dataframe thead th {\n",
       "        text-align: right;\n",
       "    }\n",
       "</style>\n",
       "<table border=\"1\" class=\"dataframe\">\n",
       "  <thead>\n",
       "    <tr style=\"text-align: right;\">\n",
       "      <th></th>\n",
       "      <th>Unnamed: 0</th>\n",
       "      <th>Name</th>\n",
       "      <th>Age</th>\n",
       "      <th>Nationality</th>\n",
       "      <th>Club</th>\n",
       "      <th>Value</th>\n",
       "      <th>Wage</th>\n",
       "      <th>Position</th>\n",
       "      <th>Crossing</th>\n",
       "      <th>Finishing</th>\n",
       "      <th>...</th>\n",
       "      <th>Penalties</th>\n",
       "      <th>Composure</th>\n",
       "      <th>Marking</th>\n",
       "      <th>StandingTackle</th>\n",
       "      <th>SlidingTackle</th>\n",
       "      <th>GKDiving</th>\n",
       "      <th>GKHandling</th>\n",
       "      <th>GKKicking</th>\n",
       "      <th>GKPositioning</th>\n",
       "      <th>GKReflexes</th>\n",
       "    </tr>\n",
       "  </thead>\n",
       "  <tbody>\n",
       "    <tr>\n",
       "      <td>67</td>\n",
       "      <td>67</td>\n",
       "      <td>Thiago</td>\n",
       "      <td>27</td>\n",
       "      <td>Spain</td>\n",
       "      <td>FC Bayern München</td>\n",
       "      <td>45500000</td>\n",
       "      <td>130000</td>\n",
       "      <td>CM</td>\n",
       "      <td>72</td>\n",
       "      <td>69</td>\n",
       "      <td>...</td>\n",
       "      <td>75</td>\n",
       "      <td>85</td>\n",
       "      <td>67</td>\n",
       "      <td>63</td>\n",
       "      <td>65</td>\n",
       "      <td>6</td>\n",
       "      <td>11</td>\n",
       "      <td>7</td>\n",
       "      <td>9</td>\n",
       "      <td>13</td>\n",
       "    </tr>\n",
       "    <tr>\n",
       "      <td>76</td>\n",
       "      <td>76</td>\n",
       "      <td>Iniesta</td>\n",
       "      <td>34</td>\n",
       "      <td>Spain</td>\n",
       "      <td>Vissel Kobe</td>\n",
       "      <td>21500000</td>\n",
       "      <td>21000</td>\n",
       "      <td>LF</td>\n",
       "      <td>77</td>\n",
       "      <td>70</td>\n",
       "      <td>...</td>\n",
       "      <td>71</td>\n",
       "      <td>89</td>\n",
       "      <td>67</td>\n",
       "      <td>57</td>\n",
       "      <td>56</td>\n",
       "      <td>6</td>\n",
       "      <td>13</td>\n",
       "      <td>6</td>\n",
       "      <td>13</td>\n",
       "      <td>7</td>\n",
       "    </tr>\n",
       "    <tr>\n",
       "      <td>83</td>\n",
       "      <td>83</td>\n",
       "      <td>Saúl</td>\n",
       "      <td>23</td>\n",
       "      <td>Spain</td>\n",
       "      <td>Atlético Madrid</td>\n",
       "      <td>50500000</td>\n",
       "      <td>77000</td>\n",
       "      <td>RCM</td>\n",
       "      <td>69</td>\n",
       "      <td>78</td>\n",
       "      <td>...</td>\n",
       "      <td>55</td>\n",
       "      <td>83</td>\n",
       "      <td>77</td>\n",
       "      <td>79</td>\n",
       "      <td>76</td>\n",
       "      <td>7</td>\n",
       "      <td>13</td>\n",
       "      <td>12</td>\n",
       "      <td>10</td>\n",
       "      <td>9</td>\n",
       "    </tr>\n",
       "    <tr>\n",
       "      <td>86</td>\n",
       "      <td>86</td>\n",
       "      <td>Koke</td>\n",
       "      <td>26</td>\n",
       "      <td>Spain</td>\n",
       "      <td>Atlético Madrid</td>\n",
       "      <td>45000000</td>\n",
       "      <td>88000</td>\n",
       "      <td>LM</td>\n",
       "      <td>86</td>\n",
       "      <td>72</td>\n",
       "      <td>...</td>\n",
       "      <td>59</td>\n",
       "      <td>78</td>\n",
       "      <td>80</td>\n",
       "      <td>69</td>\n",
       "      <td>51</td>\n",
       "      <td>14</td>\n",
       "      <td>12</td>\n",
       "      <td>5</td>\n",
       "      <td>10</td>\n",
       "      <td>13</td>\n",
       "    </tr>\n",
       "    <tr>\n",
       "      <td>90</td>\n",
       "      <td>90</td>\n",
       "      <td>Parejo</td>\n",
       "      <td>29</td>\n",
       "      <td>Spain</td>\n",
       "      <td>Valencia CF</td>\n",
       "      <td>37000000</td>\n",
       "      <td>66000</td>\n",
       "      <td>RCM</td>\n",
       "      <td>84</td>\n",
       "      <td>79</td>\n",
       "      <td>...</td>\n",
       "      <td>83</td>\n",
       "      <td>78</td>\n",
       "      <td>69</td>\n",
       "      <td>68</td>\n",
       "      <td>60</td>\n",
       "      <td>5</td>\n",
       "      <td>9</td>\n",
       "      <td>12</td>\n",
       "      <td>14</td>\n",
       "      <td>8</td>\n",
       "    </tr>\n",
       "    <tr>\n",
       "      <td>...</td>\n",
       "      <td>...</td>\n",
       "      <td>...</td>\n",
       "      <td>...</td>\n",
       "      <td>...</td>\n",
       "      <td>...</td>\n",
       "      <td>...</td>\n",
       "      <td>...</td>\n",
       "      <td>...</td>\n",
       "      <td>...</td>\n",
       "      <td>...</td>\n",
       "      <td>...</td>\n",
       "      <td>...</td>\n",
       "      <td>...</td>\n",
       "      <td>...</td>\n",
       "      <td>...</td>\n",
       "      <td>...</td>\n",
       "      <td>...</td>\n",
       "      <td>...</td>\n",
       "      <td>...</td>\n",
       "      <td>...</td>\n",
       "      <td>...</td>\n",
       "    </tr>\n",
       "    <tr>\n",
       "      <td>11750</td>\n",
       "      <td>11977</td>\n",
       "      <td>Cristian Arco</td>\n",
       "      <td>23</td>\n",
       "      <td>Spain</td>\n",
       "      <td>Cádiz CF</td>\n",
       "      <td>90000</td>\n",
       "      <td>1000</td>\n",
       "      <td>GK</td>\n",
       "      <td>17</td>\n",
       "      <td>13</td>\n",
       "      <td>...</td>\n",
       "      <td>23</td>\n",
       "      <td>24</td>\n",
       "      <td>12</td>\n",
       "      <td>19</td>\n",
       "      <td>17</td>\n",
       "      <td>56</td>\n",
       "      <td>53</td>\n",
       "      <td>55</td>\n",
       "      <td>53</td>\n",
       "      <td>52</td>\n",
       "    </tr>\n",
       "    <tr>\n",
       "      <td>11777</td>\n",
       "      <td>12004</td>\n",
       "      <td>Taliby</td>\n",
       "      <td>21</td>\n",
       "      <td>Spain</td>\n",
       "      <td>CD Numancia</td>\n",
       "      <td>100000</td>\n",
       "      <td>1000</td>\n",
       "      <td>GK</td>\n",
       "      <td>12</td>\n",
       "      <td>9</td>\n",
       "      <td>...</td>\n",
       "      <td>16</td>\n",
       "      <td>35</td>\n",
       "      <td>23</td>\n",
       "      <td>10</td>\n",
       "      <td>12</td>\n",
       "      <td>55</td>\n",
       "      <td>53</td>\n",
       "      <td>51</td>\n",
       "      <td>53</td>\n",
       "      <td>61</td>\n",
       "    </tr>\n",
       "    <tr>\n",
       "      <td>11822</td>\n",
       "      <td>12049</td>\n",
       "      <td>Víctor Gómez</td>\n",
       "      <td>18</td>\n",
       "      <td>Spain</td>\n",
       "      <td>RCD Espanyol</td>\n",
       "      <td>160000</td>\n",
       "      <td>1000</td>\n",
       "      <td>LB</td>\n",
       "      <td>51</td>\n",
       "      <td>23</td>\n",
       "      <td>...</td>\n",
       "      <td>37</td>\n",
       "      <td>42</td>\n",
       "      <td>56</td>\n",
       "      <td>48</td>\n",
       "      <td>46</td>\n",
       "      <td>11</td>\n",
       "      <td>9</td>\n",
       "      <td>12</td>\n",
       "      <td>12</td>\n",
       "      <td>6</td>\n",
       "    </tr>\n",
       "    <tr>\n",
       "      <td>11976</td>\n",
       "      <td>12205</td>\n",
       "      <td>Hugo Díaz</td>\n",
       "      <td>21</td>\n",
       "      <td>Spain</td>\n",
       "      <td>Leeds United</td>\n",
       "      <td>180000</td>\n",
       "      <td>4000</td>\n",
       "      <td>CB</td>\n",
       "      <td>22</td>\n",
       "      <td>23</td>\n",
       "      <td>...</td>\n",
       "      <td>37</td>\n",
       "      <td>37</td>\n",
       "      <td>60</td>\n",
       "      <td>61</td>\n",
       "      <td>59</td>\n",
       "      <td>15</td>\n",
       "      <td>14</td>\n",
       "      <td>15</td>\n",
       "      <td>8</td>\n",
       "      <td>11</td>\n",
       "    </tr>\n",
       "    <tr>\n",
       "      <td>12621</td>\n",
       "      <td>12850</td>\n",
       "      <td>Carlos Mendes Gomes</td>\n",
       "      <td>19</td>\n",
       "      <td>Spain</td>\n",
       "      <td>Morecambe</td>\n",
       "      <td>60000</td>\n",
       "      <td>1000</td>\n",
       "      <td>CAM</td>\n",
       "      <td>35</td>\n",
       "      <td>46</td>\n",
       "      <td>...</td>\n",
       "      <td>42</td>\n",
       "      <td>39</td>\n",
       "      <td>38</td>\n",
       "      <td>27</td>\n",
       "      <td>26</td>\n",
       "      <td>10</td>\n",
       "      <td>6</td>\n",
       "      <td>8</td>\n",
       "      <td>12</td>\n",
       "      <td>11</td>\n",
       "    </tr>\n",
       "  </tbody>\n",
       "</table>\n",
       "<p>661 rows × 42 columns</p>\n",
       "</div>"
      ],
      "text/plain": [
       "       Unnamed: 0                 Name  Age Nationality               Club  \\\n",
       "67             67               Thiago   27       Spain  FC Bayern München   \n",
       "76             76              Iniesta   34       Spain        Vissel Kobe   \n",
       "83             83                 Saúl   23       Spain    Atlético Madrid   \n",
       "86             86                 Koke   26       Spain    Atlético Madrid   \n",
       "90             90               Parejo   29       Spain        Valencia CF   \n",
       "...           ...                  ...  ...         ...                ...   \n",
       "11750       11977        Cristian Arco   23       Spain           Cádiz CF   \n",
       "11777       12004               Taliby   21       Spain        CD Numancia   \n",
       "11822       12049         Víctor Gómez   18       Spain       RCD Espanyol   \n",
       "11976       12205            Hugo Díaz   21       Spain       Leeds United   \n",
       "12621       12850  Carlos Mendes Gomes   19       Spain          Morecambe   \n",
       "\n",
       "          Value    Wage Position  Crossing  Finishing  ...  Penalties  \\\n",
       "67     45500000  130000       CM        72         69  ...         75   \n",
       "76     21500000   21000       LF        77         70  ...         71   \n",
       "83     50500000   77000      RCM        69         78  ...         55   \n",
       "86     45000000   88000       LM        86         72  ...         59   \n",
       "90     37000000   66000      RCM        84         79  ...         83   \n",
       "...         ...     ...      ...       ...        ...  ...        ...   \n",
       "11750     90000    1000       GK        17         13  ...         23   \n",
       "11777    100000    1000       GK        12          9  ...         16   \n",
       "11822    160000    1000       LB        51         23  ...         37   \n",
       "11976    180000    4000       CB        22         23  ...         37   \n",
       "12621     60000    1000      CAM        35         46  ...         42   \n",
       "\n",
       "       Composure  Marking  StandingTackle  SlidingTackle  GKDiving  \\\n",
       "67            85       67              63             65         6   \n",
       "76            89       67              57             56         6   \n",
       "83            83       77              79             76         7   \n",
       "86            78       80              69             51        14   \n",
       "90            78       69              68             60         5   \n",
       "...          ...      ...             ...            ...       ...   \n",
       "11750         24       12              19             17        56   \n",
       "11777         35       23              10             12        55   \n",
       "11822         42       56              48             46        11   \n",
       "11976         37       60              61             59        15   \n",
       "12621         39       38              27             26        10   \n",
       "\n",
       "       GKHandling  GKKicking  GKPositioning  GKReflexes  \n",
       "67             11          7              9          13  \n",
       "76             13          6             13           7  \n",
       "83             13         12             10           9  \n",
       "86             12          5             10          13  \n",
       "90              9         12             14           8  \n",
       "...           ...        ...            ...         ...  \n",
       "11750          53         55             53          52  \n",
       "11777          53         51             53          61  \n",
       "11822           9         12             12           6  \n",
       "11976          14         15              8          11  \n",
       "12621           6          8             12          11  \n",
       "\n",
       "[661 rows x 42 columns]"
      ]
     },
     "execution_count": 12,
     "metadata": {},
     "output_type": "execute_result"
    }
   ],
   "source": [
    "df[(df.Nationality=='Spain')&(df.Wage<df_1.index[0].right)]"
   ]
  },
  {
   "cell_type": "code",
   "execution_count": 16,
   "metadata": {},
   "outputs": [
    {
     "data": {
      "text/plain": [
       "0.9850968703427719"
      ]
     },
     "execution_count": 16,
     "metadata": {},
     "output_type": "execute_result"
    }
   ],
   "source": [
    "len(df[(df.Nationality=='Spain')&(df.Wage>df_1.index[0].left)&(df.Wage<df_1.index[0].right)])/len(df[(df.Nationality=='Spain')])"
   ]
  },
  {
   "cell_type": "markdown",
   "metadata": {},
   "source": [
    "Укажите количество уникальных сборных (Nationality), к которым относятся футболисты, выступающие за клуб (Club) \"Manchester United\"."
   ]
  },
  {
   "cell_type": "code",
   "execution_count": 9,
   "metadata": {},
   "outputs": [
    {
     "data": {
      "text/plain": [
       "13"
      ]
     },
     "execution_count": 9,
     "metadata": {},
     "output_type": "execute_result"
    }
   ],
   "source": [
    "df_clubs = df[df['Club']=='Manchester United'].Nationality.unique()\n",
    "len(df_clubs)"
   ]
  },
  {
   "cell_type": "markdown",
   "metadata": {},
   "source": [
    "С помощью функции unique определите двух футболистов из Бразилии (Nationality = 'Brazil'), выступающих за клуб (Club) 'Juventus'. Перечислите их имена (Name, как в датафрейме) через запятую в алфавитном порядке."
   ]
  },
  {
   "cell_type": "code",
   "execution_count": 12,
   "metadata": {},
   "outputs": [
    {
     "data": {
      "text/plain": [
       "array(['Alex Sandro', 'Douglas Costa'], dtype=object)"
      ]
     },
     "execution_count": 12,
     "metadata": {},
     "output_type": "execute_result"
    }
   ],
   "source": [
    "df_mu = df[(df['Nationality']=='Brazil')&(df['Club']=='Juventus')]['Name'].unique()\n",
    "df_mu"
   ]
  },
  {
   "cell_type": "markdown",
   "metadata": {},
   "source": [
    "Укажите, какой из клубов (Club) насчитывает большее количество футболистов возрастом (Age) старше 35 лет."
   ]
  },
  {
   "cell_type": "code",
   "execution_count": 15,
   "metadata": {},
   "outputs": [
    {
     "data": {
      "text/plain": [
       "Hokkaido Consadole Sapporo    4\n",
       "Club Atlético Huracán         4\n",
       "Benevento                     3\n",
       "Hammarby IF                   3\n",
       "Club Atlético Colón           3\n",
       "                             ..\n",
       "Cádiz CF                      1\n",
       "LASK Linz                     1\n",
       "IFK Norrköping                1\n",
       "Red Star FC                   1\n",
       "SpVgg Unterhaching            1\n",
       "Name: Club, Length: 212, dtype: int64"
      ]
     },
     "execution_count": 15,
     "metadata": {},
     "output_type": "execute_result"
    }
   ],
   "source": [
    "df_35 = df[(df['Age']>35)]['Club'].value_counts()\n",
    "df_35"
   ]
  },
  {
   "cell_type": "markdown",
   "metadata": {},
   "source": [
    "С помощью функции value_counts с параметром bins разбейте всех футболистов сборной (Nationality) Аргентины ('Argentina') на 4 равные группы. Укажите, сколько футболистов в возрасте от 34.75 до 41 года в сборной Аргентины."
   ]
  },
  {
   "cell_type": "code",
   "execution_count": 16,
   "metadata": {},
   "outputs": [],
   "source": [
    "df_agr = df[df['Nationality']=='Argentina']['Age'].value_counts(bins=4)"
   ]
  },
  {
   "cell_type": "code",
   "execution_count": 17,
   "metadata": {},
   "outputs": [
    {
     "data": {
      "text/plain": [
       "(22.25, 28.5]      200\n",
       "(15.974, 22.25]    197\n",
       "(28.5, 34.75]      128\n",
       "(34.75, 41.0]       49\n",
       "Name: Age, dtype: int64"
      ]
     },
     "execution_count": 17,
     "metadata": {},
     "output_type": "execute_result"
    }
   ],
   "source": [
    "df_agr"
   ]
  },
  {
   "cell_type": "markdown",
   "metadata": {},
   "source": [
    "Сколько процентов футболистов из Испании (Nationality = 'Spain') имеют возраст (Age) 21 год? Введите с точностью до 2 знаков после запятой без указания знака % (например, 12.35)."
   ]
  },
  {
   "cell_type": "code",
   "execution_count": 21,
   "metadata": {},
   "outputs": [],
   "source": [
    "df_21 = df[df['Nationality']=='Spain']['Age'].value_counts(normalize=True)"
   ]
  },
  {
   "cell_type": "code",
   "execution_count": 22,
   "metadata": {},
   "outputs": [
    {
     "data": {
      "text/plain": [
       "21    0.117735\n",
       "22    0.095380\n",
       "20    0.077496\n",
       "23    0.071535\n",
       "25    0.064083\n",
       "27    0.062593\n",
       "24    0.059613\n",
       "28    0.053651\n",
       "26    0.053651\n",
       "29    0.047690\n",
       "19    0.047690\n",
       "18    0.038748\n",
       "30    0.038748\n",
       "31    0.032787\n",
       "32    0.032787\n",
       "33    0.031297\n",
       "34    0.022355\n",
       "17    0.013413\n",
       "35    0.011923\n",
       "36    0.010432\n",
       "37    0.008942\n",
       "39    0.002981\n",
       "16    0.002981\n",
       "38    0.001490\n",
       "Name: Age, dtype: float64"
      ]
     },
     "execution_count": 22,
     "metadata": {},
     "output_type": "execute_result"
    }
   ],
   "source": [
    "df_21"
   ]
  },
  {
   "cell_type": "code",
   "execution_count": null,
   "metadata": {},
   "outputs": [],
   "source": []
  }
 ],
 "metadata": {
  "kernelspec": {
   "display_name": "Python 3",
   "language": "python",
   "name": "python3"
  },
  "language_info": {
   "codemirror_mode": {
    "name": "ipython",
    "version": 3
   },
   "file_extension": ".py",
   "mimetype": "text/x-python",
   "name": "python",
   "nbconvert_exporter": "python",
   "pygments_lexer": "ipython3",
   "version": "3.7.4"
  }
 },
 "nbformat": 4,
 "nbformat_minor": 2
}
