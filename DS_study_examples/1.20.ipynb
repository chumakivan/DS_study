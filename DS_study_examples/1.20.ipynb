{
 "cells": [
  {
   "cell_type": "markdown",
   "metadata": {},
   "source": [
    "Выведите таблицу квадратов и кубов для чисел от 1 до 10 включительно. (Каждая новая строчка распечатывается через print() и имеет формат '2 4 8', то есть число, затем его квадрат, а затем его куб)"
   ]
  },
  {
   "cell_type": "code",
   "execution_count": 1,
   "metadata": {},
   "outputs": [
    {
     "name": "stdout",
     "output_type": "stream",
     "text": [
      "1 1 1\n",
      "2 4 8\n",
      "3 9 27\n",
      "4 16 64\n",
      "5 25 125\n",
      "6 36 216\n",
      "7 49 343\n",
      "8 64 512\n",
      "9 81 729\n",
      "10 100 1000\n"
     ]
    }
   ],
   "source": [
    "for i in range(1,11):\n",
    "    print(i,i**2,i**3)"
   ]
  },
  {
   "cell_type": "markdown",
   "metadata": {},
   "source": [
    "Напишите программу, которая получает на вход число (number) и последовательно в порядке возрастания выводит все его делители на экран (само число тоже является своим делителем).\n",
    "\n",
    "Для проверки используйте number = 84"
   ]
  },
  {
   "cell_type": "code",
   "execution_count": 5,
   "metadata": {},
   "outputs": [
    {
     "name": "stdout",
     "output_type": "stream",
     "text": [
      "1\n",
      "2\n",
      "19\n",
      "38\n"
     ]
    }
   ],
   "source": [
    "number = 38\n",
    "for i in range(1,number+1):\n",
    "    if number%i==0:\n",
    "        print(i)"
   ]
  },
  {
   "cell_type": "markdown",
   "metadata": {},
   "source": [
    "Написать программу, которая ищет все общие (не равные 1) делители двух чисел (num_1 и num_2), введённых пользователем, и последовательно в порядке возрастания выводит их на экран. Если общих делителей нет, не выводит на экран ничего.\n",
    "\n",
    "Для проверки используйте num_1 = 12 и num_2 = 38"
   ]
  },
  {
   "cell_type": "code",
   "execution_count": 3,
   "metadata": {},
   "outputs": [
    {
     "name": "stdout",
     "output_type": "stream",
     "text": [
      "2\n"
     ]
    }
   ],
   "source": [
    "num_1 = 12\n",
    "num_2 = 38\n",
    "for i in range(2,min(num_1,num_2)+1):\n",
    "    if num_1%i==0 and num_2%i==0:\n",
    "        print(i)"
   ]
  },
  {
   "cell_type": "markdown",
   "metadata": {},
   "source": [
    "Написать программу, которая на вход получает натуральное число n и выводит n-е число ряда Фибоначчи на экран. Для проверки используйте n = 10\n",
    "\n",
    "Пояснение: последовательность Фибоначчи — это ряд чисел, в котором первые два элемента равны 1, а каждый следующий элемент равен сумме двух предыдущих: 1, 1, 2, 3, 5, 8, 13, 21, ..."
   ]
  },
  {
   "cell_type": "code",
   "execution_count": 2,
   "metadata": {},
   "outputs": [
    {
     "name": "stdout",
     "output_type": "stream",
     "text": [
      "55\n"
     ]
    }
   ],
   "source": [
    "n=10\n",
    "number_m2=0\n",
    "number_m1=0\n",
    "number_current=1\n",
    "for i in range(1,n+1):\n",
    "    if i==1 or i==2:\n",
    "        number_current=1\n",
    "        number_m1=1\n",
    "        number_m2=1\n",
    "        #print(number_current) \n",
    "    else:\n",
    "        number_current=number_m1+number_m2\n",
    "        number_m2=number_m1\n",
    "        number_m1=number_current\n",
    "print(number_current)    "
   ]
  },
  {
   "cell_type": "markdown",
   "metadata": {},
   "source": [
    "Напишите программу, которая выводит таблицу умножения от 1 до 10 для выбранного целого числа (number). Если number = 15, то строка таблицы имеет вид \"15 X 3 = 45\".\n",
    "\n",
    "Для проверки используйте number = 15"
   ]
  },
  {
   "cell_type": "code",
   "execution_count": 22,
   "metadata": {},
   "outputs": [
    {
     "name": "stdout",
     "output_type": "stream",
     "text": [
      "15 X 1 = 15\n",
      "15 X 2 = 30\n",
      "15 X 3 = 45\n",
      "15 X 4 = 60\n",
      "15 X 5 = 75\n",
      "15 X 6 = 90\n",
      "15 X 7 = 105\n",
      "15 X 8 = 120\n",
      "15 X 9 = 135\n",
      "15 X 10 = 150\n"
     ]
    }
   ],
   "source": [
    "number = 15\n",
    "for i in range(1,11):\n",
    "    print(f'{number} X {i} = {i*number}')"
   ]
  },
  {
   "cell_type": "code",
   "execution_count": null,
   "metadata": {},
   "outputs": [],
   "source": []
  },
  {
   "cell_type": "code",
   "execution_count": null,
   "metadata": {},
   "outputs": [],
   "source": []
  },
  {
   "cell_type": "code",
   "execution_count": null,
   "metadata": {},
   "outputs": [],
   "source": []
  },
  {
   "cell_type": "code",
   "execution_count": null,
   "metadata": {},
   "outputs": [],
   "source": []
  }
 ],
 "metadata": {
  "kernelspec": {
   "display_name": "Python 3",
   "language": "python",
   "name": "python3"
  },
  "language_info": {
   "codemirror_mode": {
    "name": "ipython",
    "version": 3
   },
   "file_extension": ".py",
   "mimetype": "text/x-python",
   "name": "python",
   "nbconvert_exporter": "python",
   "pygments_lexer": "ipython3",
   "version": "3.7.4"
  }
 },
 "nbformat": 4,
 "nbformat_minor": 2
}
