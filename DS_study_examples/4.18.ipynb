{
 "cells": [
  {
   "cell_type": "markdown",
   "metadata": {},
   "source": [
    "Если вы обратили внимание, в предыдущих частях модуля у вас было несколько заданий с функцией normalize. Нормализацию часто применяют в машинном обучении, приводят данные к виду, когда среднее значение равно 0, а стандартное отклонение — 1.\n",
    "\n",
    "Определите функцию normalize с тремя аргументами:\n",
    "\n",
    "numbers — список чисел;\n",
    "mean — число, необязательный аргумент, по умолчанию 0;\n",
    "std — число, необязательный аргумент, по умолчанию 1.\n",
    "Функция должна для каждого числа из numbers вычитать mean и полученный результат делить на std. На выходе ожидается список из этих новых чисел.\n",
    "normalize([10, 20])\n",
    "\n",
    "=> [10, 20]\n",
    "\n",
    "normalize([10, 20], std=2)\n",
    "\n",
    "=> [5, 10]\n",
    "\n",
    "normalize([10, 20], mean=15)\n",
    "\n",
    "=> [-5, 5]"
   ]
  },
  {
   "cell_type": "code",
   "execution_count": 15,
   "metadata": {},
   "outputs": [],
   "source": [
    "def normalize(numbers,mean=0,std=1):\n",
    "    return list(map(lambda x: (x-mean)/std,numbers))"
   ]
  },
  {
   "cell_type": "code",
   "execution_count": 18,
   "metadata": {},
   "outputs": [],
   "source": [
    "def normalize(numbers,mean=0,std=1):\n",
    "    return [(x-mean)/std for x in numbers]"
   ]
  },
  {
   "cell_type": "code",
   "execution_count": 19,
   "metadata": {},
   "outputs": [
    {
     "data": {
      "text/plain": [
       "[-5.0, 5.0]"
      ]
     },
     "execution_count": 19,
     "metadata": {},
     "output_type": "execute_result"
    }
   ],
   "source": [
    "normalize([10, 20], mean=15)"
   ]
  },
  {
   "cell_type": "code",
   "execution_count": 9,
   "metadata": {},
   "outputs": [
    {
     "name": "stdout",
     "output_type": "stream",
     "text": [
      "[10.0, 20.0, 15.0, 11.0, 18.0]\n"
     ]
    }
   ],
   "source": [
    "numbers = [10,20,15,11,18]\n",
    "mean = 0\n",
    "std = 1\n",
    "a = list(map(lambda x: (x-mean)/std,numbers))\n",
    "print(a)"
   ]
  },
  {
   "cell_type": "code",
   "execution_count": 20,
   "metadata": {},
   "outputs": [],
   "source": [
    "def sum_args(*args):  \n",
    "    sum_arg = 0  \n",
    "    for num in args:  \n",
    "        sum_arg += num  \n",
    "    return sum_arg "
   ]
  },
  {
   "cell_type": "code",
   "execution_count": 21,
   "metadata": {},
   "outputs": [
    {
     "data": {
      "text/plain": [
       "21"
      ]
     },
     "execution_count": 21,
     "metadata": {},
     "output_type": "execute_result"
    }
   ],
   "source": [
    "sum_args(10, 15, -4) "
   ]
  },
  {
   "cell_type": "code",
   "execution_count": 22,
   "metadata": {},
   "outputs": [],
   "source": [
    "def show_keys(**kwargs):\n",
    "    print(' '.join(kwargs.keys()))"
   ]
  },
  {
   "cell_type": "code",
   "execution_count": 23,
   "metadata": {},
   "outputs": [
    {
     "name": "stdout",
     "output_type": "stream",
     "text": [
      "verbose mode\n"
     ]
    }
   ],
   "source": [
    "show_keys(verbose=True, mode='constant')"
   ]
  },
  {
   "cell_type": "code",
   "execution_count": null,
   "metadata": {},
   "outputs": [],
   "source": []
  },
  {
   "cell_type": "code",
   "execution_count": null,
   "metadata": {},
   "outputs": [],
   "source": []
  },
  {
   "cell_type": "code",
   "execution_count": null,
   "metadata": {},
   "outputs": [],
   "source": []
  },
  {
   "cell_type": "code",
   "execution_count": null,
   "metadata": {},
   "outputs": [],
   "source": []
  },
  {
   "cell_type": "code",
   "execution_count": null,
   "metadata": {},
   "outputs": [],
   "source": []
  }
 ],
 "metadata": {
  "kernelspec": {
   "display_name": "Python 3",
   "language": "python",
   "name": "python3"
  },
  "language_info": {
   "codemirror_mode": {
    "name": "ipython",
    "version": 3
   },
   "file_extension": ".py",
   "mimetype": "text/x-python",
   "name": "python",
   "nbconvert_exporter": "python",
   "pygments_lexer": "ipython3",
   "version": "3.7.4"
  }
 },
 "nbformat": 4,
 "nbformat_minor": 2
}
